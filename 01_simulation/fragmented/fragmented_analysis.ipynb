{
 "cells": [
  {
   "cell_type": "markdown",
   "metadata": {},
   "source": [
    "# Fragmented simulation analysis\n",
    "\n",
    "- Performs the precursory analysis for the first set of main simulations"
   ]
  },
  {
   "cell_type": "code",
   "execution_count": 1,
   "metadata": {},
   "outputs": [],
   "source": [
    "import os\n",
    "from collections import OrderedDict\n",
    "from tqdm import tqdm_notebook\n",
    "from math import floor\n",
    "import pandas as pd\n",
    "import shutil\n",
    "import sqlite3\n",
    "from pycoalescence import CoalescenceTree"
   ]
  },
  {
   "cell_type": "code",
   "execution_count": 2,
   "metadata": {},
   "outputs": [],
   "source": [
    "# For dev use only - auto-reloading of modules\n",
    "%load_ext autoreload\n",
    "%aimport pycoalescence.coalescence_tree\n",
    "from pycoalescence.coalescence_tree import check_sql_table_exist\n",
    "from pycoalescence.helper import update_parameter_names\n",
    "%autoreload 1"
   ]
  },
  {
   "cell_type": "code",
   "execution_count": 3,
   "metadata": {},
   "outputs": [],
   "source": [
    "\n",
    "intervals = {'artinskian',\n",
    " 'asselian',\n",
    " 'bashkirian',\n",
    " 'gzhelian',\n",
    " 'kasimovian',\n",
    " 'kungurian',\n",
    " 'moscovian',\n",
    " 'sakmarian'}\n",
    "\n",
    "tetrapod_groups = {'amniote', 'amphibian'}"
   ]
  },
  {
   "cell_type": "code",
   "execution_count": 4,
   "metadata": {},
   "outputs": [],
   "source": [
    "def percent_cover_detection(fine_map_file):\n",
    "\t\"\"\"\n",
    "\tDetects the percentage cover from the fine map path\n",
    "\t:param fine_map_file: path to check for\n",
    "\t:return: the simulation percentage cover\n",
    "\t\"\"\"\n",
    "\tfor pc in [0.1, 0.2, 0.5]:\n",
    "\t\tif \"_{}_\".format(pc) in fine_map_file:\n",
    "\t\t\treturn pc\n",
    "\traise ValueError(\"No percentage cover detected!\")"
   ]
  },
  {
   "cell_type": "code",
   "execution_count": 5,
   "metadata": {},
   "outputs": [],
   "source": [
    "def sim_type_detection(fine_map_file):\n",
    "\t\"\"\"\n",
    "\tDetects the simulation type from the fine map path (because I didn't save it anywhere sensible!\n",
    "\t:param fine_map_file: the path to check for\n",
    "\t:return the sim type\n",
    "\t\"\"\"\n",
    "\tfor interval in intervals:\n",
    "\t\tfor tet_group in tetrapod_groups:\n",
    "\t\t\tif interval in fine_map_file and tet_group in fine_map_file:\n",
    "\t\t\t\treturn (interval, tet_group)\n",
    "\traise ValueError(\"No type detected! Filename: {}.\".format(fine_map_file))"
   ]
  },
  {
   "cell_type": "code",
   "execution_count": 6,
   "metadata": {},
   "outputs": [],
   "source": [
    "# Set the import directories and variables - paths relative to the jupyter notebook directory\n",
    "fragmented=\"fragmented\" \n",
    "local_dir = \"/home/sam/Documents/PhD/PaleoSampling\"\n",
    "ext_dir = \"/run/media/sam/Media/Paleo\"\n",
    "# local_dir = \"/Users/samthompson/Documents/PhD/PaleoSampling/\"\n",
    "# ext_dir = \"/Volumes/Seagate 3TB/Paleo/\"\n",
    "# ext_dir = \"/Users/samthompson/Documents/PhD/PaleoSampling/\"\n",
    "results_dir = os.path.join(ext_dir, \"Results\", \"PaleoMain\", \"Sim8\")\n",
    "dst_folder = os.path.join(local_dir, \"Results\", \"Sim8\")\n",
    "dst_folder2 = os.path.join(local_dir, \"Code\", \"MainSimulationR\", \"results\", \"Sim8\")\n",
    "data_dir = os.path.join(ext_dir, \"Data\")\n",
    "speciation_rates = [0.0001, 0.00001, 0.000001, 0.0000001, 0.00000001]\n",
    "max_density = OrderedDict(\n",
    "    {\n",
    "        (\"artinskian\", \"amniote\"): 15,\n",
    "        (\"artinskian\", \"amphibian\"): 15,\n",
    "        (\"asselian\", \"amniote\"): 6,\n",
    "        (\"asselian\", \"amphibian\"): 6,\n",
    "        (\"bashkirian\", \"amniote\"): 1,\n",
    "        (\"bashkirian\", \"amphibian\"): 23,\n",
    "        (\"gzhelian\", \"amniote\"): 7,\n",
    "        (\"gzhelian\", \"amphibian\"): 7,\n",
    "        (\"kasimovian\", \"amniote\"): 7,\n",
    "        (\"kasimovian\", \"amphibian\"): 4,\n",
    "        (\"kungurian\", \"amniote\"): 15,\n",
    "        (\"kungurian\", \"amphibian\"): 17,\n",
    "        (\"moscovian\", \"amniote\"): 4,\n",
    "        (\"moscovian\", \"amphibian\"): 21,\n",
    "        (\"sakmarian\", \"amniote\"): 6,\n",
    "        (\"sakmarian\", \"amphibian\"): 15,\n",
    "    }\n",
    ")"
   ]
  },
  {
   "cell_type": "code",
   "execution_count": 8,
   "metadata": {
    "collapsed": true
   },
   "outputs": [
    {
     "data": {
      "application/vnd.jupyter.widget-view+json": {
       "model_id": "6c4390a7b35f42069bedad423f6c2e44",
       "version_major": 2,
       "version_minor": 0
      },
      "text/plain": [
       "HBox(children=(IntProgress(value=0, description='Percent cover', max=3, style=ProgressStyle(description_width=…"
      ]
     },
     "metadata": {},
     "output_type": "display_data"
    },
    {
     "data": {
      "application/vnd.jupyter.widget-view+json": {
       "model_id": "97703442341a4a8bb2b11804997d2368",
       "version_major": 2,
       "version_minor": 0
      },
      "text/plain": [
       "HBox(children=(IntProgress(value=0, description='Files', max=284, style=ProgressStyle(description_width='initi…"
      ]
     },
     "metadata": {},
     "output_type": "display_data"
    },
    {
     "data": {
      "application/vnd.jupyter.widget-view+json": {
       "model_id": "7d18e2eed3ec43fabf425faade4f8a6d",
       "version_major": 2,
       "version_minor": 0
      },
      "text/plain": [
       "HBox(children=(IntProgress(value=0, description='Files', max=267, style=ProgressStyle(description_width='initi…"
      ]
     },
     "metadata": {},
     "output_type": "display_data"
    },
    {
     "data": {
      "application/vnd.jupyter.widget-view+json": {
       "model_id": "35db971948b546b79199f3fb592e56d6",
       "version_major": 2,
       "version_minor": 0
      },
      "text/plain": [
       "HBox(children=(IntProgress(value=0, description='Files', max=261, style=ProgressStyle(description_width='initi…"
      ]
     },
     "metadata": {},
     "output_type": "display_data"
    },
    {
     "name": "stdout",
     "output_type": "stream",
     "text": [
      "\n"
     ]
    }
   ],
   "source": [
    "# Delete all simulations which haven't completed yet.\n",
    "for pc in tqdm_notebook([\"20\", \"40\", \"80\"], desc=\"Percent cover\"):\n",
    "    for file in tqdm_notebook(os.listdir(os.path.join(results_dir, pc)), desc=\"Files\"):\n",
    "        if \".db\" in file:\n",
    "            try:\n",
    "                t = CoalescenceTree(os.path.join(results_dir, pc, file))\n",
    "            except IOError:\n",
    "                t = CoalescenceTree()\n",
    "                t.file = os.path.join(results_dir, pc, file)\n",
    "                t.database = sqlite3.connect(t.file)\n",
    "                interval, tet_group = sim_type_detection(os.path.basename(t.get_simulation_parameters()[\"sample_file\"]))\n",
    "                print(\"Removing incomplete simulation {} for {} and {}.\".format(file, interval, tet_group))\n",
    "                os.remove(os.path.join(results_dir, pc, file))"
   ]
  },
  {
   "cell_type": "code",
   "execution_count": 10,
   "metadata": {
    "collapsed": true
   },
   "outputs": [
    {
     "data": {
      "application/vnd.jupyter.widget-view+json": {
       "model_id": "ca9d6129136f47e09caca63d2df9f767",
       "version_major": 2,
       "version_minor": 0
      },
      "text/plain": [
       "HBox(children=(IntProgress(value=0, description='Percent cover', max=3, style=ProgressStyle(description_width=…"
      ]
     },
     "metadata": {},
     "output_type": "display_data"
    },
    {
     "data": {
      "application/vnd.jupyter.widget-view+json": {
       "model_id": "22ec9fe0af7d4ad38ed7e2096ee3f6a6",
       "version_major": 2,
       "version_minor": 0
      },
      "text/plain": [
       "HBox(children=(IntProgress(value=0, description='Files', max=284, style=ProgressStyle(description_width='initi…"
      ]
     },
     "metadata": {},
     "output_type": "display_data"
    },
    {
     "data": {
      "application/vnd.jupyter.widget-view+json": {
       "model_id": "075daf2364fc402eab7f2077690a4a6c",
       "version_major": 2,
       "version_minor": 0
      },
      "text/plain": [
       "HBox(children=(IntProgress(value=0, description='Files', max=267, style=ProgressStyle(description_width='initi…"
      ]
     },
     "metadata": {},
     "output_type": "display_data"
    },
    {
     "data": {
      "application/vnd.jupyter.widget-view+json": {
       "model_id": "e89346e9c824498e98a32eebe7f53259",
       "version_major": 2,
       "version_minor": 0
      },
      "text/plain": [
       "HBox(children=(IntProgress(value=0, description='Files', max=261, style=ProgressStyle(description_width='initi…"
      ]
     },
     "metadata": {},
     "output_type": "display_data"
    }
   ],
   "source": [
    "# Calculate the biodiversity metrics -  can take a bit of time\n",
    "for pc in tqdm_notebook([\"20\", \"40\", \"80\"], desc=\"Percent cover\"):\n",
    "    for file in tqdm_notebook(os.listdir(os.path.join(results_dir, pc)), desc=\"Files\"):\n",
    "        if \".db\" in file:\n",
    "#             print(file)\n",
    "            t = CoalescenceTree(os.path.join(results_dir, pc, file))\n",
    "            if check_sql_table_exist(t.database, \"SPECIES_LIST_ORIGINAL\"):\n",
    "                t.revert_downsample()\n",
    "            t.wipe_data()\n",
    "            sim_params = t.get_simulation_parameters()\n",
    "            (interval, tet_group) = sim_type_detection(sim_params[\"sample_file\"])\n",
    "            deme = sim_params[\"deme\"]\n",
    "            sample_size = sim_params[\"sample_size\"]\n",
    "#             downsample_rate = max_density[(interval, tet_group)] /( deme * sample_size)\n",
    "            (interval, tet_group) = sim_type_detection(sim_params[\"sample_file\"])\n",
    "            fragment_csv = os.path.join(data_dir, \"configs\", \"fragments_{}_{}.csv\".format(interval, tet_group))\n",
    "            t.downsample_at_locations(fragment_csv=fragment_csv, ignore_errors=True)\n",
    "            t.set_speciation_parameters(record_spatial=True,\n",
    "                                        record_fragments=fragment_csv,\n",
    "                                        speciation_rates=speciation_rates)\n",
    "            t.clear_calculations()\n",
    "            t.apply()\n",
    "            t.import_comparison_data(os.path.join(data_dir, \"databases\", \"{}_{}.db\".format(interval, tet_group)))\n",
    "            # t.adjust_data()\n",
    "            t._clear_goodness_of_fit()\n",
    "            t.calculate_fragment_richness()\n",
    "            # t.calculate_alpha_diversity()\n",
    "            t.calculate_beta_diversity()\n",
    "            # break\n",
    "            t.calculate_goodness_of_fit()"
   ]
  },
  {
   "cell_type": "code",
   "execution_count": 9,
   "metadata": {},
   "outputs": [
    {
     "data": {
      "text/plain": [
       "('kasimovian', 'amphibian')"
      ]
     },
     "execution_count": 9,
     "metadata": {},
     "output_type": "execute_result"
    }
   ],
   "source": [
    "(interval, tet_group)"
   ]
  },
  {
   "cell_type": "code",
   "execution_count": 13,
   "metadata": {},
   "outputs": [
    {
     "data": {
      "application/vnd.jupyter.widget-view+json": {
       "model_id": "c5ed5408b2404eb4b11024dab6fdb887",
       "version_major": 2,
       "version_minor": 0
      },
      "text/plain": [
       "HBox(children=(IntProgress(value=0, description='Percent cover', max=3, style=ProgressStyle(description_width=…"
      ]
     },
     "metadata": {},
     "output_type": "display_data"
    },
    {
     "data": {
      "application/vnd.jupyter.widget-view+json": {
       "model_id": "d87ac9defb6d459c8b65f811a533ac4d",
       "version_major": 2,
       "version_minor": 0
      },
      "text/plain": [
       "HBox(children=(IntProgress(value=0, description='Files', max=284, style=ProgressStyle(description_width='initi…"
      ]
     },
     "metadata": {},
     "output_type": "display_data"
    },
    {
     "data": {
      "application/vnd.jupyter.widget-view+json": {
       "model_id": "ca559e92a2da4e7f9adf8a199a6f8934",
       "version_major": 2,
       "version_minor": 0
      },
      "text/plain": [
       "HBox(children=(IntProgress(value=0, description='Files', max=267, style=ProgressStyle(description_width='initi…"
      ]
     },
     "metadata": {},
     "output_type": "display_data"
    },
    {
     "data": {
      "application/vnd.jupyter.widget-view+json": {
       "model_id": "c466d741d42e485eb9df3dcc4b5ae1c0",
       "version_major": 2,
       "version_minor": 0
      },
      "text/plain": [
       "HBox(children=(IntProgress(value=0, description='Files', max=261, style=ProgressStyle(description_width='initi…"
      ]
     },
     "metadata": {},
     "output_type": "display_data"
    }
   ],
   "source": [
    "tmp_dict = {}\n",
    "for pc in tqdm_notebook([\"20\", \"40\", \"80\"], desc=\"Percent cover\"):\n",
    "    for file in tqdm_notebook(os.listdir(os.path.join(results_dir, pc)), desc=\"Files\"):\n",
    "        if \".db\" in file:\n",
    "            t = CoalescenceTree(os.path.join(results_dir, pc, file))\n",
    "            sim_params = t.get_simulation_parameters()\n",
    "            (interval, tet_group) = sim_type_detection(sim_params[\"sample_file\"])\n",
    "            tmp_dict[(interval, tet_group)] = max(tmp_dict.get((interval, tet_group), 0), t.get_number_individuals())"
   ]
  },
  {
   "cell_type": "code",
   "execution_count": 15,
   "metadata": {},
   "outputs": [
    {
     "data": {
      "text/plain": [
       "{('gzhelian', 'amphibian'): 51,\n",
       " ('gzhelian', 'amniote'): 27,\n",
       " ('asselian', 'amphibian'): 135,\n",
       " ('asselian', 'amniote'): 25,\n",
       " ('artinskian', 'amphibian'): 182,\n",
       " ('artinskian', 'amniote'): 160,\n",
       " ('sakmarian', 'amphibian'): 130,\n",
       " ('sakmarian', 'amniote'): 67,\n",
       " ('kungurian', 'amphibian'): 238,\n",
       " ('kungurian', 'amniote'): 226,\n",
       " ('kasimovian', 'amphibian'): 26,\n",
       " ('kasimovian', 'amniote'): 15}"
      ]
     },
     "execution_count": 15,
     "metadata": {},
     "output_type": "execute_result"
    }
   ],
   "source": [
    "tmp_dict"
   ]
  },
  {
   "cell_type": "code",
   "execution_count": 16,
   "metadata": {
    "collapsed": true
   },
   "outputs": [
    {
     "data": {
      "application/vnd.jupyter.widget-view+json": {
       "model_id": "17f986bf3ecd433bba7a93c6fbec7e99",
       "version_major": 2,
       "version_minor": 0
      },
      "text/plain": [
       "HBox(children=(IntProgress(value=0, description='Percent cover', max=3, style=ProgressStyle(description_width=…"
      ]
     },
     "metadata": {},
     "output_type": "display_data"
    },
    {
     "data": {
      "application/vnd.jupyter.widget-view+json": {
       "model_id": "ad7ec5a37e214da7b4aff9d86e6bef4f",
       "version_major": 2,
       "version_minor": 0
      },
      "text/plain": [
       "HBox(children=(IntProgress(value=0, description='Files', max=284, style=ProgressStyle(description_width='initi…"
      ]
     },
     "metadata": {},
     "output_type": "display_data"
    },
    {
     "data": {
      "application/vnd.jupyter.widget-view+json": {
       "model_id": "d4cc7febd37a479388d7b523bbcb48f4",
       "version_major": 2,
       "version_minor": 0
      },
      "text/plain": [
       "HBox(children=(IntProgress(value=0, description='Files', max=267, style=ProgressStyle(description_width='initi…"
      ]
     },
     "metadata": {},
     "output_type": "display_data"
    },
    {
     "data": {
      "application/vnd.jupyter.widget-view+json": {
       "model_id": "147c543463ff4c689a8b16e0688d1679",
       "version_major": 2,
       "version_minor": 0
      },
      "text/plain": [
       "HBox(children=(IntProgress(value=0, description='Files', max=261, style=ProgressStyle(description_width='initi…"
      ]
     },
     "metadata": {},
     "output_type": "display_data"
    }
   ],
   "source": [
    "# Sample from the simulations\n",
    "tmp = []\n",
    "distance_sim_tmp = []\n",
    "fragment_abundances = []\n",
    "for pc in tqdm_notebook([\"20\", \"40\", \"80\"], desc=\"Percent cover\"):\n",
    "\tfor file in tqdm_notebook(os.listdir(os.path.join(results_dir, pc)), desc=\"Files\"):\n",
    "\t\tif \".db\" in file:\n",
    "\t\t\t# print(file)\n",
    "\t\t\tt = CoalescenceTree(os.path.join(results_dir, pc, file), logging_level=30)\n",
    "\t\t\tif check_sql_table_exist(t.database, \"SPECIES_DISTANCE_SIMILARITY\"):\n",
    "\t\t\t\tt.cursor.execute(\"DROP TABLE IF EXISTS SPECIES_DISTANCE_SIMILARITY\")\n",
    "\t\t\tt.calculate_species_distance_similarity()\n",
    "\t\t\tfor sr in speciation_rates:\n",
    "\t\t\t\t\tref = t.get_community_reference(speciation_rate=sr, time=0.0, fragments=True)\n",
    "\t\t\t\t\tspec_r = t.cursor.execute(\"SELECT actual FROM BIODIVERSITY_METRICS WHERE\"\n",
    "\t\t\t\t\t\t\t\t\t\t \" community_reference==? AND fragment=='whole' AND \"\n",
    "\t\t\t\t\t\t\t\t\t\t \"metric=='fragment_richness'\", \n",
    "\t\t\t\t\t\t\t\t\t\t (ref,)).fetchall()[0][0]\n",
    "\t\t\t\t\tb = t.cursor.execute(\"SELECT actual FROM BIODIVERSITY_METRICS WHERE\"\n",
    "\t\t\t\t\t\t\t\t\t\t \" community_reference==? AND fragment=='whole' AND \"\n",
    "\t\t\t\t\t\t\t\t\t\t \"metric=='beta_diversity'\", \n",
    "\t\t\t\t\t\t\t\t\t\t (ref,)).fetchall()[0][0]\n",
    "\t\t\t\t\ta = t.cursor.execute(\"SELECT actual FROM BIODIVERSITY_METRICS WHERE\"\n",
    "\t\t\t\t\t\t\t\t\t\t \" community_reference==? AND fragment=='whole' AND \"\n",
    "\t\t\t\t\t\t\t\t\t\t \"metric=='alpha_diversity'\", \n",
    "\t\t\t\t\t\t\t\t\t\t (ref,)).fetchall()[0][0]\n",
    "\t\t\t\t\tsim_params = t.get_simulation_parameters()\n",
    "\t\t\t\t\tspecies_richness = t.get_species_richness(ref)\n",
    "\t\t\t\t\tbeta = t.get_beta_diversity(ref)\n",
    "\t\t\t\t\talpha = t.get_alpha_diversity(ref)\n",
    "\t\t\t\t\tgoodness_fit = t.get_goodness_of_fit(reference=ref)\n",
    "\t\t\t\t\ttotal_ind = t.get_number_individuals(community_reference=ref)\n",
    "\t\t\t\t\t(interval, tet_group) = sim_type_detection(sim_params[\"sample_file\"])\n",
    "\t\t\t\t\ttmp.append({\"interval\": interval, \"tetrapod_group\" : tet_group,\n",
    "\t\t\t\t\t\t\t\t\"sigma\" : sim_params[\"sigma\"], \"speciation_rate\" : sr,\n",
    "\t\t\t\t\t\t\t\t\"deme\" : sim_params[\"deme\"], \"richness\" : species_richness,\n",
    "\t\t\t\t\t\t\t\t\"beta_diversity\" : beta, \"alpha_diversity\" : alpha,\n",
    "\t\t\t\t\t\t\t\t\"gof\" : goodness_fit, \"actual_richness\" : spec_r, \"actual_beta\" : b,\n",
    "\t\t\t\t\t\t\t\t\"actual_alpha\" : a, \"percent_cover\": pc, \"simulated_individuals\" : total_ind})\n",
    "\t\t\t\t\t# try:\n",
    "\t\t\t\t\tdistance_sim = t.get_species_distance_similarity(ref)\n",
    "\t\t\t\t\tfor distance, no_ind in distance_sim:\n",
    "\t\t\t\t\t\tdistance_sim_tmp.append({\"interval\": interval, \"tetrapod_group\" : tet_group,\n",
    "\t\t\t\t\t\t\t\t\t\t\t\t \"sigma\" : sim_params[\"sigma\"], \"speciation_rate\" : sr,\n",
    "\t\t\t\t\t\t\t\t\"deme\" : sim_params[\"deme\"], \"richness\" : species_richness,\n",
    "\t\t\t\t\t\t\t\t\"beta_diversity\" : beta, \"alpha_diversity\" : alpha,\n",
    "\t\t\t\t\t\t\t\t\"gof\" : goodness_fit, \"actual_richness\" : spec_r, \"actual_beta\" : b,\n",
    "\t\t\t\t\t\t\t\t\"actual_alpha\" : a, \"distance\" : distance, \"no_individuals\" : no_ind,\"percent_cover\": pc})\n",
    "\t\t\t\t\tfor fragment in t.get_fragment_list(ref):\n",
    "\t\t\t\t\t\tr = t.get_fragment_richness(fragment, ref)\n",
    "\t\t\t\t\t\tfragment_abundances.append({\"interval\": interval, \"tetrapod_group\" : tet_group,\n",
    "\t\t\t\t\t\t\t\t\t\t\t\t\t\"sigma\" : sim_params[\"sigma\"], \"speciation_rate\" : sr,\n",
    "\t\t\t\t\t\t\t\t\t\t\t\t\t\"deme\" : sim_params[\"deme\"], \"richness\" : r,\n",
    "\t\t\t\t\t\t\t\t\t\t\t\t\t\"fragment\" : fragment,\n",
    "\t\t\t\t\t\t\t\t\t\t\t\t\t\"percent_cover\": pc})\n",
    "\t\t\t\t\n",
    "df = pd.DataFrame(tmp)\n",
    "df_distance_sim = pd.DataFrame(distance_sim_tmp)\n",
    "df_fragment_abundances = pd.DataFrame(fragment_abundances)"
   ]
  },
  {
   "cell_type": "code",
   "execution_count": 20,
   "metadata": {},
   "outputs": [],
   "source": [
    "# Save the output to csv\n",
    "src_csv = os.path.join(results_dir, \"results_{}.csv\".format(fragmented))\n",
    "df.to_csv(src_csv, index=False)\n",
    "src_csv2 = os.path.join(results_dir, \"results_distance_sim_{}.csv\".format(fragmented))\n",
    "df_distance_sim.to_csv(src_csv2)\n",
    "src_csv3 = os.path.join(results_dir, \"results_fragment_abundances_{}.csv\".format(fragmented))\n",
    "df_fragment_abundances.to_csv(src_csv3)"
   ]
  },
  {
   "cell_type": "code",
   "execution_count": 21,
   "metadata": {},
   "outputs": [
    {
     "data": {
      "text/plain": [
       "'/home/sam/Documents/PhD/PaleoSampling/Results/Sim8/results_fragment_abundances_fragmented.csv'"
      ]
     },
     "execution_count": 21,
     "metadata": {},
     "output_type": "execute_result"
    }
   ],
   "source": [
    "# Move the output csvs - change fragmented variable as appropriate\n",
    "if not os.path.exists(dst_folder):\n",
    "\tos.makedirs(dst_folder)\n",
    "dst_csv = os.path.join(dst_folder, \"results_{}.csv\".format(fragmented))\n",
    "dst_csv2 = os.path.join(dst_folder, \"results_distance_sim_{}.csv\".format(fragmented))\n",
    "dst_csv3 = os.path.join(dst_folder, \"results_fragment_abundances_{}.csv\".format(fragmented))\n",
    "shutil.copy2(src_csv, dst_csv)\n",
    "shutil.copy2(src_csv2, dst_csv2)\n",
    "shutil.copy2(src_csv3, dst_csv3)"
   ]
  },
  {
   "cell_type": "code",
   "execution_count": 22,
   "metadata": {},
   "outputs": [
    {
     "data": {
      "text/plain": [
       "'/home/sam/Documents/PhD/PaleoSampling/Code/MainSimulationR/results/Sim8/results_fragment_abundances_fragmented.csv'"
      ]
     },
     "execution_count": 22,
     "metadata": {},
     "output_type": "execute_result"
    }
   ],
   "source": [
    "# Move the output csvs - change fragmented variable as appropriate\n",
    "if not os.path.exists(dst_folder2):\n",
    "\tos.makedirs(dst_folder2)\n",
    "dst_csv = os.path.join(dst_folder2, \"results_{}.csv\".format(fragmented))\n",
    "dst_csv2 = os.path.join(dst_folder2, \"results_distance_sim_{}.csv\".format(fragmented))\n",
    "dst_csv3 = os.path.join(dst_folder2, \"results_fragment_abundances_{}.csv\".format(fragmented))\n",
    "shutil.copy2(src_csv, dst_csv)\n",
    "shutil.copy2(src_csv2, dst_csv2)\n",
    "shutil.copy2(src_csv3, dst_csv3)"
   ]
  },
  {
   "cell_type": "code",
   "execution_count": null,
   "metadata": {},
   "outputs": [],
   "source": []
  }
 ],
 "metadata": {
  "kernelspec": {
   "display_name": "Python 3",
   "language": "python",
   "name": "python3"
  },
  "language_info": {
   "codemirror_mode": {
    "name": "ipython",
    "version": 3
   },
   "file_extension": ".py",
   "mimetype": "text/x-python",
   "name": "python",
   "nbconvert_exporter": "python",
   "pygments_lexer": "ipython3",
   "version": "3.7.3"
  }
 },
 "nbformat": 4,
 "nbformat_minor": 2
}
