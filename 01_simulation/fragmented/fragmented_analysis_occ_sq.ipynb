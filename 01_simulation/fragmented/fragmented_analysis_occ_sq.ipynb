{
 "cells": [
  {
   "cell_type": "markdown",
   "metadata": {},
   "source": [
    "# Fragmented simulation analysis using occurrences squared metric\n",
    "\n",
    "- Performs the analysis for the fragmented set of main simulations"
   ]
  },
  {
   "cell_type": "code",
   "execution_count": 1,
   "metadata": {},
   "outputs": [],
   "source": [
    "import os\n",
    "from collections import OrderedDict\n",
    "from math import floor\n",
    "import pandas as pd\n",
    "from tqdm import tqdm_notebook\n",
    "import shutil\n",
    "import sqlite3\n",
    "from pycoalescence import CoalescenceTree"
   ]
  },
  {
   "cell_type": "code",
   "execution_count": 2,
   "metadata": {},
   "outputs": [],
   "source": [
    "# For dev use only - auto-reloading of modules\n",
    "%load_ext autoreload\n",
    "%aimport pycoalescence.coalescence_tree\n",
    "from pycoalescence.coalescence_tree import check_sql_table_exist\n",
    "from pycoalescence.helper import update_parameter_names\n",
    "%autoreload 1"
   ]
  },
  {
   "cell_type": "code",
   "execution_count": 3,
   "metadata": {},
   "outputs": [],
   "source": [
    "\n",
    "intervals = {'artinskian',\n",
    " 'asselian',\n",
    " 'bashkirian',\n",
    " 'gzhelian',\n",
    " 'kasimovian',\n",
    " 'kungurian',\n",
    " 'moscovian',\n",
    " 'sakmarian'}\n",
    "\n",
    "tetrapod_groups = {'amniote', 'amphibian'}"
   ]
  },
  {
   "cell_type": "code",
   "execution_count": 4,
   "metadata": {},
   "outputs": [],
   "source": [
    "def percent_cover_detection(fine_map_file):\n",
    "\t\"\"\"\n",
    "\tDetects the percentage cover from the fine map path\n",
    "\t:param fine_map_file: path to check for\n",
    "\t:return: the simulation percentage cover\n",
    "\t\"\"\"\n",
    "\tfor pc in [0.1, 0.2, 0.5]:\n",
    "\t\tif \"_{}_\".format(pc) in fine_map_file:\n",
    "\t\t\treturn pc\n",
    "\traise ValueError(\"No percentage cover detected!\")"
   ]
  },
  {
   "cell_type": "code",
   "execution_count": 5,
   "metadata": {},
   "outputs": [],
   "source": [
    "def sim_type_detection(fine_map_file):\n",
    "\t\"\"\"\n",
    "\tDetects the simulation type from the fine map path (because I didn't save it anywhere sensible!\n",
    "\t:param fine_map_file: the path to check for\n",
    "\t:return the sim type\n",
    "\t\"\"\"\n",
    "\tfor interval in intervals:\n",
    "\t\tfor tet_group in tetrapod_groups:\n",
    "\t\t\tif interval in fine_map_file and tet_group in fine_map_file:\n",
    "\t\t\t\treturn (interval, tet_group)\n",
    "\traise ValueError(\"No type detected! Filename: {}.\".format(fine_map_file))"
   ]
  },
  {
   "cell_type": "code",
   "execution_count": 6,
   "metadata": {},
   "outputs": [],
   "source": [
    "# Set the import directories and variables - paths relative to the jupyter notebook directory\n",
    "fragmented=\"fragmented\" \n",
    "local_dir = \"/home/sam/Documents/PhD/PaleoSampling\"\n",
    "ext_dir = \"/run/media/sam/Media/Paleo\"\n",
    "# local_dir = \"/Users/samthompson/Documents/PhD/PaleoSampling/\"\n",
    "# ext_dir = \"/Volumes/Seagate 3TB/Paleo/\"\n",
    "results_dir = os.path.join(ext_dir, \"Results\", \"PaleoMain\", \"Sim8b\")\n",
    "dst_folder = os.path.join(local_dir, \"Results\", \"Sim8b\")\n",
    "dst_folder2 = os.path.join(local_dir, \"Code\", \"MainSimulationR\", \"results\", \"Sim8b\")\n",
    "data_dir = os.path.join(ext_dir, \"Data\")\n",
    "speciation_rates = [0.0001, 0.00001, 0.000001, 0.0000001, 0.00000001]\n",
    "# These contain the max density per pcoord, using the occurences squared metric\n",
    "max_density = OrderedDict(\n",
    "    {\n",
    "        (\"artinskian\", \"amniote\"): 26,\n",
    "        (\"artinskian\", \"amphibian\"): 51,\n",
    "        (\"asselian\", \"amniote\"): 4,\n",
    "        (\"asselian\", \"amphibian\"): 12,\n",
    "        (\"bashkirian\", \"amniote\"): 12,\n",
    "        (\"bashkirian\", \"amphibian\"): 33,\n",
    "        (\"gzhelian\", \"amniote\"): 14,\n",
    "        (\"gzhelian\", \"amphibian\"): 11,\n",
    "        (\"kasimovian\", \"amniote\"): 15,\n",
    "        (\"kasimovian\", \"amphibian\"): 11,\n",
    "        (\"kungurian\", \"amniote\"): 37,\n",
    "        (\"kungurian\", \"amphibian\"): 40,\n",
    "        (\"moscovian\", \"amniote\"): 5,\n",
    "        (\"moscovian\", \"amphibian\"): 74,\n",
    "        (\"sakmarian\", \"amniote\"): 17,\n",
    "        (\"sakmarian\", \"amphibian\"): 37,\n",
    "    }\n",
    ")"
   ]
  },
  {
   "cell_type": "code",
   "execution_count": 7,
   "metadata": {
    "collapsed": true
   },
   "outputs": [
    {
     "data": {
      "application/vnd.jupyter.widget-view+json": {
       "model_id": "52db1b001bc64058af32c35cfbc697b1",
       "version_major": 2,
       "version_minor": 0
      },
      "text/plain": [
       "HBox(children=(IntProgress(value=0, description='Percent cover', max=3, style=ProgressStyle(description_width=…"
      ]
     },
     "metadata": {},
     "output_type": "display_data"
    },
    {
     "data": {
      "application/vnd.jupyter.widget-view+json": {
       "model_id": "7763f6a39eb843e988ac0fad01f29aa1",
       "version_major": 2,
       "version_minor": 0
      },
      "text/plain": [
       "HBox(children=(IntProgress(value=0, description='Files', max=284, style=ProgressStyle(description_width='initi…"
      ]
     },
     "metadata": {},
     "output_type": "display_data"
    },
    {
     "data": {
      "application/vnd.jupyter.widget-view+json": {
       "model_id": "ee49ae399fa648499be2ebc3c87c6c03",
       "version_major": 2,
       "version_minor": 0
      },
      "text/plain": [
       "HBox(children=(IntProgress(value=0, description='Files', max=267, style=ProgressStyle(description_width='initi…"
      ]
     },
     "metadata": {},
     "output_type": "display_data"
    },
    {
     "data": {
      "application/vnd.jupyter.widget-view+json": {
       "model_id": "512eb18096e4476a9072fda8a525da38",
       "version_major": 2,
       "version_minor": 0
      },
      "text/plain": [
       "HBox(children=(IntProgress(value=0, description='Files', max=261, style=ProgressStyle(description_width='initi…"
      ]
     },
     "metadata": {},
     "output_type": "display_data"
    },
    {
     "name": "stdout",
     "output_type": "stream",
     "text": [
      "\n"
     ]
    }
   ],
   "source": [
    "# Delete all simulations which haven't completed yet.\n",
    "for pc in tqdm_notebook([\"20\", \"40\", \"80\"], desc=\"Percent cover\"):\n",
    "    for file in tqdm_notebook(os.listdir(os.path.join(results_dir, pc)), desc=\"Files\"):\n",
    "        if \".db\" in file:\n",
    "            try:\n",
    "                t = CoalescenceTree(os.path.join(results_dir, pc, file))\n",
    "            except IOError:\n",
    "                t = CoalescenceTree()\n",
    "                t.file = os.path.join(results_dir, pc, file)\n",
    "                t.database = sqlite3.connect(t.file)\n",
    "                interval, tet_group = sim_type_detection(os.path.basename(t.get_simulation_parameters()[\"sample_file\"]))\n",
    "                print(\"Removing incomplete simulation {} for {} and {}.\".format(file, interval, tet_group))\n",
    "                os.remove(os.path.join(results_dir, pc, file))"
   ]
  },
  {
   "cell_type": "code",
   "execution_count": 12,
   "metadata": {
    "collapsed": true
   },
   "outputs": [
    {
     "data": {
      "application/vnd.jupyter.widget-view+json": {
       "model_id": "3389ee41f05b41899bc3baae733c01cd",
       "version_major": 2,
       "version_minor": 0
      },
      "text/plain": [
       "HBox(children=(IntProgress(value=0, description='Percent cover', max=3, style=ProgressStyle(description_width=…"
      ]
     },
     "metadata": {},
     "output_type": "display_data"
    },
    {
     "data": {
      "application/vnd.jupyter.widget-view+json": {
       "model_id": "002a3738d2f54c01856545587ab3477b",
       "version_major": 2,
       "version_minor": 0
      },
      "text/plain": [
       "HBox(children=(IntProgress(value=0, description='Files', max=284, style=ProgressStyle(description_width='initi…"
      ]
     },
     "metadata": {},
     "output_type": "display_data"
    },
    {
     "data": {
      "application/vnd.jupyter.widget-view+json": {
       "model_id": "d3ba66366ab94cee8cc1d86bb80be5f9",
       "version_major": 2,
       "version_minor": 0
      },
      "text/plain": [
       "HBox(children=(IntProgress(value=0, description='Files', max=267, style=ProgressStyle(description_width='initi…"
      ]
     },
     "metadata": {},
     "output_type": "display_data"
    },
    {
     "data": {
      "application/vnd.jupyter.widget-view+json": {
       "model_id": "9667d97afebf4ad48ec17964f85d7308",
       "version_major": 2,
       "version_minor": 0
      },
      "text/plain": [
       "HBox(children=(IntProgress(value=0, description='Files', max=261, style=ProgressStyle(description_width='initi…"
      ]
     },
     "metadata": {},
     "output_type": "display_data"
    }
   ],
   "source": [
    "# Calculate the biodiversity metrics -  can take a bit of time\n",
    "for pc in tqdm_notebook([\"20\", \"40\", \"80\"], desc=\"Percent cover\"):\n",
    "    for file in tqdm_notebook(os.listdir(os.path.join(results_dir, pc)), desc=\"Files\"):\n",
    "        if \".db\" in file:\n",
    "            t = CoalescenceTree(os.path.join(results_dir, pc, file))\n",
    "            if check_sql_table_exist(t.database, \"SPECIES_LIST_ORIGINAL\"):\n",
    "                t.revert_downsample()\n",
    "            t.wipe_data()\n",
    "#             break\n",
    "            sim_params = t.get_simulation_parameters()\n",
    "            (interval, tet_group) = sim_type_detection(sim_params[\"sample_file\"])\n",
    "            deme = sim_params[\"deme\"]\n",
    "            sample_size = sim_params[\"sample_size\"]\n",
    "#             downsample_rate = max_density[(interval, tet_group)] /( deme * sample_size)\n",
    "            (interval, tet_group) = sim_type_detection(sim_params[\"sample_file\"])\n",
    "            fragment_csv = os.path.join(data_dir, \"configs\", \"fragments_occ_{}_{}.csv\".format(interval, \n",
    "                                                                                              tet_group))\n",
    "            t.downsample_at_locations(fragment_csv=fragment_csv, ignore_errors=True)\n",
    "            t.set_speciation_parameters(record_spatial=True,\n",
    "                                        record_fragments=fragment_csv,\n",
    "                                        speciation_rates=speciation_rates)\n",
    "            t.clear_calculations()\n",
    "            t.apply()\n",
    "#             break\n",
    "            t.import_comparison_data(os.path.join(data_dir, \"databases\", \"{}_{}_occ_sq.db\".format(interval, tet_group)))\n",
    "            # t.adjust_data()\n",
    "            t._clear_goodness_of_fit()\n",
    "            t.calculate_fragment_richness()\n",
    "            # t.calculate_alpha_diversity()\n",
    "            t.calculate_beta_diversity()\n",
    "            # break\n",
    "            t.calculate_goodness_of_fit()\n",
    "#         break\n",
    "#     break"
   ]
  },
  {
   "cell_type": "code",
   "execution_count": 13,
   "metadata": {},
   "outputs": [
    {
     "data": {
      "application/vnd.jupyter.widget-view+json": {
       "model_id": "52e5624006774f2893be0c011619c009",
       "version_major": 2,
       "version_minor": 0
      },
      "text/plain": [
       "HBox(children=(IntProgress(value=0, description='Percent cover', max=3, style=ProgressStyle(description_width=…"
      ]
     },
     "metadata": {},
     "output_type": "display_data"
    },
    {
     "data": {
      "application/vnd.jupyter.widget-view+json": {
       "model_id": "f0b70bde93f746508552e91abeea529d",
       "version_major": 2,
       "version_minor": 0
      },
      "text/plain": [
       "HBox(children=(IntProgress(value=0, description='Files', max=284, style=ProgressStyle(description_width='initi…"
      ]
     },
     "metadata": {},
     "output_type": "display_data"
    },
    {
     "data": {
      "application/vnd.jupyter.widget-view+json": {
       "model_id": "af791a2c5e654635869ddb74038414c2",
       "version_major": 2,
       "version_minor": 0
      },
      "text/plain": [
       "HBox(children=(IntProgress(value=0, description='Files', max=267, style=ProgressStyle(description_width='initi…"
      ]
     },
     "metadata": {},
     "output_type": "display_data"
    },
    {
     "data": {
      "application/vnd.jupyter.widget-view+json": {
       "model_id": "2fcaf4e0f80840219dc5adb290cc0627",
       "version_major": 2,
       "version_minor": 0
      },
      "text/plain": [
       "HBox(children=(IntProgress(value=0, description='Files', max=261, style=ProgressStyle(description_width='initi…"
      ]
     },
     "metadata": {},
     "output_type": "display_data"
    }
   ],
   "source": [
    "tmp_dict = {}\n",
    "for pc in tqdm_notebook([\"20\", \"40\", \"80\"], desc=\"Percent cover\"):\n",
    "    for file in tqdm_notebook(os.listdir(os.path.join(results_dir, pc)), desc=\"Files\"):\n",
    "        if \".db\" in file:\n",
    "            t = CoalescenceTree(os.path.join(results_dir, pc, file))\n",
    "            sim_params = t.get_simulation_parameters()\n",
    "            (interval, tet_group) = sim_type_detection(sim_params[\"sample_file\"])\n",
    "            tmp_dict[(interval, tet_group)] = max(tmp_dict.get((interval, tet_group), 0), t.get_number_individuals())"
   ]
  },
  {
   "cell_type": "code",
   "execution_count": 14,
   "metadata": {},
   "outputs": [
    {
     "data": {
      "text/plain": [
       "{('gzhelian', 'amphibian'): 51,\n",
       " ('gzhelian', 'amniote'): 29,\n",
       " ('asselian', 'amphibian'): 145,\n",
       " ('asselian', 'amniote'): 25,\n",
       " ('artinskian', 'amphibian'): 220,\n",
       " ('artinskian', 'amniote'): 186,\n",
       " ('sakmarian', 'amphibian'): 160,\n",
       " ('sakmarian', 'amniote'): 81,\n",
       " ('kungurian', 'amphibian'): 292,\n",
       " ('kungurian', 'amniote'): 256,\n",
       " ('kasimovian', 'amphibian'): 26,\n",
       " ('kasimovian', 'amniote'): 17}"
      ]
     },
     "execution_count": 14,
     "metadata": {},
     "output_type": "execute_result"
    }
   ],
   "source": [
    "tmp_dict"
   ]
  },
  {
   "cell_type": "code",
   "execution_count": 16,
   "metadata": {
    "collapsed": true
   },
   "outputs": [
    {
     "data": {
      "application/vnd.jupyter.widget-view+json": {
       "model_id": "fd1fbc8d0bd14312b305cfbe76a3bfc7",
       "version_major": 2,
       "version_minor": 0
      },
      "text/plain": [
       "HBox(children=(IntProgress(value=0, description='Percent cover', max=3, style=ProgressStyle(description_width=…"
      ]
     },
     "metadata": {},
     "output_type": "display_data"
    },
    {
     "data": {
      "application/vnd.jupyter.widget-view+json": {
       "model_id": "4a59f08b0a5942b6bdebead0d1cda5b7",
       "version_major": 2,
       "version_minor": 0
      },
      "text/plain": [
       "HBox(children=(IntProgress(value=0, description='Files', max=284, style=ProgressStyle(description_width='initi…"
      ]
     },
     "metadata": {},
     "output_type": "display_data"
    },
    {
     "data": {
      "application/vnd.jupyter.widget-view+json": {
       "model_id": "583f320a4716466abd1f80d3bf3e9f52",
       "version_major": 2,
       "version_minor": 0
      },
      "text/plain": [
       "HBox(children=(IntProgress(value=0, description='Files', max=267, style=ProgressStyle(description_width='initi…"
      ]
     },
     "metadata": {},
     "output_type": "display_data"
    },
    {
     "data": {
      "application/vnd.jupyter.widget-view+json": {
       "model_id": "f2a2e66c4e3d44efaec036c1084e2b17",
       "version_major": 2,
       "version_minor": 0
      },
      "text/plain": [
       "HBox(children=(IntProgress(value=0, description='Files', max=261, style=ProgressStyle(description_width='initi…"
      ]
     },
     "metadata": {},
     "output_type": "display_data"
    }
   ],
   "source": [
    "# Sample from the simulations\n",
    "tmp = []\n",
    "distance_sim_tmp = []\n",
    "fragment_abundances = []\n",
    "for pc in tqdm_notebook([\"20\", \"40\", \"80\"], desc=\"Percent cover\"):\n",
    "    for file in tqdm_notebook(os.listdir(os.path.join(results_dir, pc)), desc=\"Files\"):\n",
    "        if \".db\" in file:\n",
    "            # print(file)\n",
    "            t = CoalescenceTree(os.path.join(results_dir, pc, file), logging_level=30)\n",
    "            if check_sql_table_exist(t.database, \"SPECIES_DISTANCE_SIMILARITY\"):\n",
    "                t.cursor.execute(\"DROP TABLE IF EXISTS SPECIES_DISTANCE_SIMILARITY\")\n",
    "            t.calculate_species_distance_similarity()\n",
    "            for sr in speciation_rates:\n",
    "                    ref = t.get_community_reference(speciation_rate=sr, time=0.0, fragments=True)\n",
    "                    spec_r = t.cursor.execute(\"SELECT actual FROM BIODIVERSITY_METRICS WHERE\"\n",
    "                                         \" community_reference==? AND fragment=='whole' AND \"\n",
    "                                         \"metric=='fragment_richness'\", \n",
    "                                         (ref,)).fetchall()[0][0]\n",
    "                    b = t.cursor.execute(\"SELECT actual FROM BIODIVERSITY_METRICS WHERE\"\n",
    "                                         \" community_reference==? AND fragment=='whole' AND \"\n",
    "                                         \"metric=='beta_diversity'\", \n",
    "                                         (ref,)).fetchall()[0][0]\n",
    "                    a = t.cursor.execute(\"SELECT actual FROM BIODIVERSITY_METRICS WHERE\"\n",
    "                                         \" community_reference==? AND fragment=='whole' AND \"\n",
    "                                         \"metric=='alpha_diversity'\", \n",
    "                                         (ref,)).fetchall()[0][0]\n",
    "                    sim_params = t.get_simulation_parameters()\n",
    "                    species_richness = t.get_species_richness(ref)\n",
    "                    beta = t.get_beta_diversity(ref)\n",
    "                    alpha = t.get_alpha_diversity(ref)\n",
    "                    goodness_fit = t.get_goodness_of_fit(reference=ref)\n",
    "                    total_ind = t.get_number_individuals(community_reference=ref)\n",
    "                    (interval, tet_group) = sim_type_detection(sim_params[\"sample_file\"])\n",
    "                    tmp.append({\"interval\": interval, \"tetrapod_group\" : tet_group,\n",
    "                                \"sigma\" : sim_params[\"sigma\"], \"speciation_rate\" : sr,\n",
    "                                \"deme\" : sim_params[\"deme\"], \"richness\" : species_richness,\n",
    "                                \"beta_diversity\" : beta, \"alpha_diversity\" : alpha,\n",
    "                                \"gof\" : goodness_fit, \"actual_richness\" : spec_r, \"actual_beta\" : b,\n",
    "                                \"actual_alpha\" : a, \"percent_cover\": pc, \"simulated_individuals\" : total_ind})\n",
    "                    # try:\n",
    "                    distance_sim = t.get_species_distance_similarity(ref)\n",
    "                    for distance, no_ind in distance_sim:\n",
    "                        distance_sim_tmp.append({\"interval\": interval, \"tetrapod_group\" : tet_group,\n",
    "                                                 \"sigma\" : sim_params[\"sigma\"], \"speciation_rate\" : sr,\n",
    "                                \"deme\" : sim_params[\"deme\"], \"richness\" : species_richness,\n",
    "                                \"beta_diversity\" : beta, \"alpha_diversity\" : alpha,\n",
    "                                \"gof\" : goodness_fit, \"actual_richness\" : spec_r, \"actual_beta\" : b,\n",
    "                                \"actual_alpha\" : a, \"distance\" : distance, \"no_individuals\" : no_ind,\"percent_cover\": pc})\n",
    "                    for fragment in t.get_fragment_list(ref):\n",
    "                        r = t.get_fragment_richness(fragment, ref)\n",
    "                        fragment_abundances.append({\"interval\": interval, \"tetrapod_group\" : tet_group,\n",
    "                                                    \"sigma\" : sim_params[\"sigma\"], \"speciation_rate\" : sr,\n",
    "                                                    \"deme\" : sim_params[\"deme\"], \"richness\" : r,\n",
    "                                                    \"fragment\" : fragment,\n",
    "                                                    \"percent_cover\": pc})\n",
    "\t\t\t\t\n",
    "df = pd.DataFrame(tmp)\n",
    "df_distance_sim = pd.DataFrame(distance_sim_tmp)\n",
    "df_fragment_abundances = pd.DataFrame(fragment_abundances)"
   ]
  },
  {
   "cell_type": "code",
   "execution_count": 17,
   "metadata": {},
   "outputs": [],
   "source": [
    "# Save the output to csv\n",
    "src_csv = os.path.join(results_dir, \"results_{}_occ.csv\".format(fragmented))\n",
    "df.to_csv(src_csv, index=False)\n",
    "src_csv2 = os.path.join(results_dir, \"results_distance_sim_{}_occ.csv\".format(fragmented))\n",
    "df_distance_sim.to_csv(src_csv2)\n",
    "src_csv3 = os.path.join(results_dir, \"results_fragment_abundances_{}_occ.csv\".format(fragmented))\n",
    "df_fragment_abundances.to_csv(src_csv3)"
   ]
  },
  {
   "cell_type": "code",
   "execution_count": 18,
   "metadata": {},
   "outputs": [
    {
     "data": {
      "text/plain": [
       "'/home/sam/Documents/PhD/PaleoSampling/Results/Sim8b/results_fragment_abundances_fragmented_occ.csv'"
      ]
     },
     "execution_count": 18,
     "metadata": {},
     "output_type": "execute_result"
    }
   ],
   "source": [
    "# Move the output csvs - change fragmented variable as appropriate\n",
    "if not os.path.exists(dst_folder):\n",
    "\tos.makedirs(dst_folder)\n",
    "dst_csv = os.path.join(dst_folder, \"results_{}_occ.csv\".format(fragmented))\n",
    "dst_csv2 = os.path.join(dst_folder, \"results_distance_sim_{}_occ.csv\".format(fragmented))\n",
    "dst_csv3 = os.path.join(dst_folder, \"results_fragment_abundances_{}_occ.csv\".format(fragmented))\n",
    "shutil.copy2(src_csv, dst_csv)\n",
    "shutil.copy2(src_csv2, dst_csv2)\n",
    "shutil.copy2(src_csv3, dst_csv3)"
   ]
  },
  {
   "cell_type": "code",
   "execution_count": 19,
   "metadata": {},
   "outputs": [
    {
     "data": {
      "text/plain": [
       "'/home/sam/Documents/PhD/PaleoSampling/Code/MainSimulationR/results/Sim8b/results_fragment_abundances_fragmented_occ.csv'"
      ]
     },
     "execution_count": 19,
     "metadata": {},
     "output_type": "execute_result"
    }
   ],
   "source": [
    "# Move the output csvs - change fragmented variable as appropriate\n",
    "if not os.path.exists(dst_folder2):\n",
    "\tos.makedirs(dst_folder2)\n",
    "dst_csv = os.path.join(dst_folder2, \"results_{}_occ.csv\".format(fragmented))\n",
    "dst_csv2 = os.path.join(dst_folder2, \"results_distance_sim_{}_occ.csv\".format(fragmented))\n",
    "dst_csv3 = os.path.join(dst_folder2, \"results_fragment_abundances_{}_occ.csv\".format(fragmented))\n",
    "shutil.copy2(src_csv, dst_csv)\n",
    "shutil.copy2(src_csv2, dst_csv2)\n",
    "shutil.copy2(src_csv3, dst_csv3)"
   ]
  },
  {
   "cell_type": "code",
   "execution_count": null,
   "metadata": {},
   "outputs": [],
   "source": []
  }
 ],
 "metadata": {
  "kernelspec": {
   "display_name": "Python 3",
   "language": "python",
   "name": "python3"
  },
  "language_info": {
   "codemirror_mode": {
    "name": "ipython",
    "version": 3
   },
   "file_extension": ".py",
   "mimetype": "text/x-python",
   "name": "python",
   "nbconvert_exporter": "python",
   "pygments_lexer": "ipython3",
   "version": "3.7.3"
  }
 },
 "nbformat": 4,
 "nbformat_minor": 2
}
