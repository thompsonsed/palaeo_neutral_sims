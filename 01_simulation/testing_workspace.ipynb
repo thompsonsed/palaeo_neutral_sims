{
 "cells": [
  {
   "cell_type": "code",
   "execution_count": 1,
   "metadata": {},
   "outputs": [
    {
     "name": "stdout",
     "output_type": "stream",
     "text": [
      "Starting module load...\n",
      "Module load complete\n"
     ]
    }
   ],
   "source": [
    "from pycoalescence import Simulation, CoalescenceTree\n",
    "import random\n",
    "from paleo_occ_sq import *"
   ]
  },
  {
   "cell_type": "code",
   "execution_count": 2,
   "metadata": {},
   "outputs": [],
   "source": [
    "global_save_dir = \"output\"\n",
    "output_dir = \"output\"\n",
    "data_dir = \"/run/media/sam/Media/Paleo/Data/\"\n",
    "fragment_dir = \"/run/media/sam/Media/Paleo/Data/configs\"\n",
    "output = []\n",
    "for pbs_index in range(1, 100, 10):\n",
    "    params = get_sim_parameters(pbs_index, global_save_dir)\n",
    "    seed = params[\"seed\"]\n",
    "    random.seed(seed)\n",
    "    job_type = params[\"job_type\"]\n",
    "    interval = params[\"interval\"]\n",
    "    tetrapod_group = params[\"tetrapod_group\"]\n",
    "    sigma = params[\"sigma\"]\n",
    "    density_per_km = params[\"density_per_km\"]\n",
    "    save_dir = params[\"output_directory\"]\n",
    "    sample_size, random_times = get_sample_size(interval, tetrapod_group, density_per_km)\n",
    "    simulation = Simulation(logging_level=30)\n",
    "    simulation.set_simulation_parameters(\n",
    "        seed=seed,\n",
    "        job_type=job_type,\n",
    "        output_directory=output_dir,\n",
    "        min_speciation_rate=0.9999,\n",
    "        sigma=sigma,\n",
    "        tau=0.0,\n",
    "        deme=density_per_km,\n",
    "        sample_size=sample_size,\n",
    "        max_time=60 * 60 * 21.5,\n",
    "        dispersal_method=\"normal\",\n",
    "        uses_spatial_sampling=True,\n",
    "    )\n",
    "    sample_file, fine_file, fragment_file = get_sim_type(\n",
    "        interval, tetrapod_group, data_dir, fragment_dir, \"pristine\", \n",
    "    )\n",
    "    simulation.set_map_files(sample_file=sample_file, fine_file=fine_file, coarse_file=\"none\")\n",
    "    for t in random_times:\n",
    "        simulation.add_sample_time(time=t)\n",
    "\n",
    "    try:\n",
    "        simulation.run()\n",
    "    except IOError:\n",
    "        pass\n",
    "    ct = CoalescenceTree(simulation)\n",
    "    output.append([\"{}-{}\".format(job_type, seed), interval, tetrapod_group, ct.get_total_number_individuals(), density_per_km, sample_size, len(random_times)])"
   ]
  },
  {
   "cell_type": "code",
   "execution_count": 3,
   "metadata": {},
   "outputs": [],
   "source": [
    "import pandas as pd"
   ]
  },
  {
   "cell_type": "code",
   "execution_count": 4,
   "metadata": {},
   "outputs": [
    {
     "data": {
      "text/html": [
       "<div>\n",
       "<style scoped>\n",
       "    .dataframe tbody tr th:only-of-type {\n",
       "        vertical-align: middle;\n",
       "    }\n",
       "\n",
       "    .dataframe tbody tr th {\n",
       "        vertical-align: top;\n",
       "    }\n",
       "\n",
       "    .dataframe thead th {\n",
       "        text-align: right;\n",
       "    }\n",
       "</style>\n",
       "<table border=\"1\" class=\"dataframe\">\n",
       "  <thead>\n",
       "    <tr style=\"text-align: right;\">\n",
       "      <th></th>\n",
       "      <th>0</th>\n",
       "      <th>1</th>\n",
       "      <th>2</th>\n",
       "      <th>3</th>\n",
       "      <th>4</th>\n",
       "      <th>5</th>\n",
       "      <th>6</th>\n",
       "    </tr>\n",
       "  </thead>\n",
       "  <tbody>\n",
       "    <tr>\n",
       "      <th>0</th>\n",
       "      <td>2-2</td>\n",
       "      <td>artinskian</td>\n",
       "      <td>amniote</td>\n",
       "      <td>1539</td>\n",
       "      <td>121.998706</td>\n",
       "      <td>0.968248</td>\n",
       "      <td>2</td>\n",
       "    </tr>\n",
       "    <tr>\n",
       "      <th>1</th>\n",
       "      <td>2-12</td>\n",
       "      <td>artinskian</td>\n",
       "      <td>amniote</td>\n",
       "      <td>572</td>\n",
       "      <td>34.424688</td>\n",
       "      <td>0.686281</td>\n",
       "      <td>10</td>\n",
       "    </tr>\n",
       "    <tr>\n",
       "      <th>2</th>\n",
       "      <td>2-22</td>\n",
       "      <td>artinskian</td>\n",
       "      <td>amniote</td>\n",
       "      <td>1107</td>\n",
       "      <td>30.381943</td>\n",
       "      <td>0.972000</td>\n",
       "      <td>8</td>\n",
       "    </tr>\n",
       "    <tr>\n",
       "      <th>3</th>\n",
       "      <td>3-7</td>\n",
       "      <td>artinskian</td>\n",
       "      <td>amphibian</td>\n",
       "      <td>946</td>\n",
       "      <td>26.429407</td>\n",
       "      <td>0.893891</td>\n",
       "      <td>10</td>\n",
       "    </tr>\n",
       "    <tr>\n",
       "      <th>4</th>\n",
       "      <td>3-17</td>\n",
       "      <td>artinskian</td>\n",
       "      <td>amphibian</td>\n",
       "      <td>860</td>\n",
       "      <td>40.402603</td>\n",
       "      <td>0.584740</td>\n",
       "      <td>10</td>\n",
       "    </tr>\n",
       "    <tr>\n",
       "      <th>5</th>\n",
       "      <td>4-2</td>\n",
       "      <td>asselian</td>\n",
       "      <td>amniote</td>\n",
       "      <td>178</td>\n",
       "      <td>121.998706</td>\n",
       "      <td>0.309839</td>\n",
       "      <td>1</td>\n",
       "    </tr>\n",
       "    <tr>\n",
       "      <th>6</th>\n",
       "      <td>4-12</td>\n",
       "      <td>asselian</td>\n",
       "      <td>amniote</td>\n",
       "      <td>70</td>\n",
       "      <td>34.424688</td>\n",
       "      <td>0.122005</td>\n",
       "      <td>9</td>\n",
       "    </tr>\n",
       "    <tr>\n",
       "      <th>7</th>\n",
       "      <td>4-22</td>\n",
       "      <td>asselian</td>\n",
       "      <td>amniote</td>\n",
       "      <td>95</td>\n",
       "      <td>30.381943</td>\n",
       "      <td>0.311040</td>\n",
       "      <td>4</td>\n",
       "    </tr>\n",
       "    <tr>\n",
       "      <th>8</th>\n",
       "      <td>5-7</td>\n",
       "      <td>asselian</td>\n",
       "      <td>amphibian</td>\n",
       "      <td>264</td>\n",
       "      <td>26.429407</td>\n",
       "      <td>0.204318</td>\n",
       "      <td>7</td>\n",
       "    </tr>\n",
       "    <tr>\n",
       "      <th>9</th>\n",
       "      <td>5-17</td>\n",
       "      <td>asselian</td>\n",
       "      <td>amphibian</td>\n",
       "      <td>216</td>\n",
       "      <td>40.402603</td>\n",
       "      <td>0.103954</td>\n",
       "      <td>9</td>\n",
       "    </tr>\n",
       "  </tbody>\n",
       "</table>\n",
       "</div>"
      ],
      "text/plain": [
       "      0           1          2     3           4         5   6\n",
       "0   2-2  artinskian    amniote  1539  121.998706  0.968248   2\n",
       "1  2-12  artinskian    amniote   572   34.424688  0.686281  10\n",
       "2  2-22  artinskian    amniote  1107   30.381943  0.972000   8\n",
       "3   3-7  artinskian  amphibian   946   26.429407  0.893891  10\n",
       "4  3-17  artinskian  amphibian   860   40.402603  0.584740  10\n",
       "5   4-2    asselian    amniote   178  121.998706  0.309839   1\n",
       "6  4-12    asselian    amniote    70   34.424688  0.122005   9\n",
       "7  4-22    asselian    amniote    95   30.381943  0.311040   4\n",
       "8   5-7    asselian  amphibian   264   26.429407  0.204318   7\n",
       "9  5-17    asselian  amphibian   216   40.402603  0.103954   9"
      ]
     },
     "execution_count": 4,
     "metadata": {},
     "output_type": "execute_result"
    }
   ],
   "source": [
    "pd.DataFrame(output)"
   ]
  },
  {
   "cell_type": "code",
   "execution_count": 5,
   "metadata": {},
   "outputs": [
    {
     "data": {
      "text/plain": [
       "70"
      ]
     },
     "execution_count": 5,
     "metadata": {},
     "output_type": "execute_result"
    }
   ],
   "source": [
    "t = CoalescenceTree(\"output/data_4_12.db\")\n",
    "t.get_total_number_individuals()"
   ]
  },
  {
   "cell_type": "code",
   "execution_count": 6,
   "metadata": {},
   "outputs": [
    {
     "name": "stderr",
     "output_type": "stream",
     "text": [
      "Checking folder existance.../run/media/sam/Media/Paleo/Data/paleo_maps/asselian.tif exists.               \n",
      "Checking folder existance...output/test/ exists.               \n",
      "Checking folder existance.../run/media/sam/Media/Paleo/Data/paleo_maps/paleomask_occ_sq_asselian_amniote.tif exists.               \n",
      "Checking folder existance...done.                                                                \n",
      "Checking for unfinished simulations...done.\n",
      "No files found containing unfinished simulations.\n",
      "*************************************************\n",
      "Setting up simulation...\n",
      "Dispersal (tau, sigma): 0, 4.72417\n",
      "Dispersal method: normal\n",
      "Fine map\n",
      "-file: /run/media/sam/Media/Paleo/Data/paleo_maps/asselian.tif\n",
      "-dimensions: (32072, 15486)\n",
      "-offset: (10605, 5836)\n",
      "Coarse map\n",
      "-file: none\n",
      "-dimensions: (32072, 15486)\n",
      "-offset: (0, 0)\n",
      "-scale: 1\n",
      "Sample grid\n",
      "-file: /run/media/sam/Media/Paleo/Data/paleo_maps/paleomask_occ_sq_asselian_amniote.tif\n",
      "-dimensions: (5856, 1657)\n",
      "-optimised area: (5856, 1657)\n",
      "-optimised offsets: (0, 0)\n",
      "Seed: 12\n",
      "Speciation rate: 0.1\n",
      "Job Type: 4\n",
      "Max time: 77400\n",
      "Deme: 34.4247\n",
      "Deme sample: 0.122005\n",
      "Output directory: output/test/\n",
      "Disp Rel Cost: 1\n",
      "Times: 0, 1, 18, 34, 44, 47, 48, 67, 84, 85\n",
      "Checking folder existance.../run/media/sam/Media/Paleo/Data/paleo_maps/paleomask_occ_sq_asselian_amniote.tif exists.               \n",
      "Checking folder existance.../run/media/sam/Media/Paleo/Data/paleo_maps/asselian.tif exists.               \n",
      "Importing /run/media/sam/Media/Paleo/Data/paleo_maps/asselian.tif \n",
      "No data value is: 0\n",
      "Getting geo transform...done.\n",
      "Affine transform is -142.627, 0.01, 0, 69.6599, 0, -0.01\n",
      "Importing /run/media/sam/Media/Paleo/Data/paleo_maps/asselian.tif ....................done.\n",
      "No data value is: 0\n",
      "Getting geo transform...done.\n",
      "Affine transform is -142.627, 0.01, 0, 69.6599, 0, -0.01\n",
      "Importing /run/media/sam/Media/Paleo/Data/paleo_maps/paleomask_occ_sq_asselian_amniote.tif \n",
      "No data value is: 0\n",
      "Getting geo transform...done.\n",
      "Affine transform is -36.575, 0.01, 0, 11.295, 0, -0.01\n",
      "Importing /run/media/sam/Media/Paleo/Data/paleo_maps/paleomask_occ_sq_asselian_amniote.tif ....................done.\n",
      "Using dispersal kernel.\n",
      "Initial count is 7\n",
      "Setting up simulation...done.                           \n",
      "Number of individuals simulating: 7\n",
      "*************************************************\n",
      "Beginning simulations...\n",
      "expanding map at generation 1.2381\n",
      "\n",
      "expanding map at generation 18.2163\n",
      "\n",
      "expanding map at generation 34.0966\n",
      "\n",
      "expanding map at generation 44.6418\n",
      "\n",
      "expanding map at generation 47.1529\n",
      "\n",
      "expanding map at generation 48.1163\n",
      "\n",
      "expanding map at generation 67.1847\n",
      "\n",
      "expanding map at generation 84.4381\n",
      "\n",
      "expanding map at generation 85.1048\n",
      "done.\n",
      "Finalising data...done.\n",
      "Creating SQL database file...\n",
      "\tChecking for existing folders....\n",
      "\tGenerating species list....\n",
      "\tExecuting SQL commands....\n",
      "No additional speciation rates to apply.\n",
      "Speciation rate is: 0.1.\n",
      "Times are: 0, 1, 18, 34, 44, 47, 48, 67, 84, 85.\n",
      "Applying speciation rate 0.1 at time 0...\n",
      "\tGenerating biodiversity...\n",
      "\tCalculating coalescence tree...\n",
      "\tAssigning species IDs...\n",
      "\tCalculating species abundances...\n",
      "\tNumber of species: 7\n",
      "\tGenerating SPECIES_ABUNDANCES table...\n",
      "Applying speciation rate 0.1 at time 1...\n",
      "\tGenerating biodiversity...\n",
      "\tCalculating coalescence tree...\n",
      "\tAssigning species IDs...\n",
      "\tCalculating species abundances...\n",
      "\tNumber of species: 6\n",
      "\tGenerating SPECIES_ABUNDANCES table...\n",
      "Applying speciation rate 0.1 at time 18...\n",
      "\tGenerating biodiversity...\n",
      "\tCalculating coalescence tree...\n",
      "\tAssigning species IDs...\n",
      "\tCalculating species abundances...\n",
      "\tNumber of species: 6\n",
      "\tGenerating SPECIES_ABUNDANCES table...\n",
      "Applying speciation rate 0.1 at time 34...\n",
      "\tGenerating biodiversity...\n",
      "\tCalculating coalescence tree...\n",
      "\tAssigning species IDs...\n",
      "\tCalculating species abundances...\n",
      "\tNumber of species: 7\n",
      "\tGenerating SPECIES_ABUNDANCES table...\n",
      "Applying speciation rate 0.1 at time 44...\n",
      "\tGenerating biodiversity...\n",
      "\tCalculating coalescence tree...\n",
      "\tAssigning species IDs...\n",
      "\tCalculating species abundances...\n",
      "\tNumber of species: 6\n",
      "\tGenerating SPECIES_ABUNDANCES table...\n",
      "Applying speciation rate 0.1 at time 47...\n",
      "\tGenerating biodiversity...\n",
      "\tCalculating coalescence tree...\n",
      "\tAssigning species IDs...\n",
      "\tCalculating species abundances...\n",
      "\tNumber of species: 7\n",
      "\tGenerating SPECIES_ABUNDANCES table...\n",
      "Applying speciation rate 0.1 at time 48...\n",
      "\tGenerating biodiversity...\n",
      "\tCalculating coalescence tree...\n",
      "\tAssigning species IDs...\n",
      "\tCalculating species abundances...\n",
      "\tNumber of species: 6\n",
      "\tGenerating SPECIES_ABUNDANCES table...\n",
      "Applying speciation rate 0.1 at time 67...\n",
      "\tGenerating biodiversity...\n",
      "\tCalculating coalescence tree...\n",
      "\tAssigning species IDs...\n",
      "\tCalculating species abundances...\n",
      "\tNumber of species: 7\n",
      "\tGenerating SPECIES_ABUNDANCES table...\n",
      "Applying speciation rate 0.1 at time 84...\n",
      "\tGenerating biodiversity...\n",
      "\tCalculating coalescence tree...\n",
      "\tAssigning species IDs...\n",
      "\tCalculating species abundances...\n",
      "\tNumber of species: 6\n",
      "\tGenerating SPECIES_ABUNDANCES table...\n",
      "Applying speciation rate 0.1 at time 85...\n",
      "\tGenerating biodiversity...\n",
      "\tCalculating coalescence tree...\n",
      "\tAssigning species IDs...\n",
      "\tCalculating species abundances...\n",
      "\tNumber of species: 5\n",
      "\tGenerating SPECIES_ABUNDANCES table...\n",
      "\tWriting to output/test//data_4_12.db...\n",
      "Total generations simulated (steps): 113.485 (407)\n",
      "Setup time was 0 minutes 6 seconds\n",
      "Simulation time was 0 hours 0 minutes 9 seconds\n",
      "File output and species calculation time was 0 minutes 0 seconds\n",
      "SQL output time was 0 minutes 0 seconds\n",
      "Total simulation and output time was 0 hours 0 minutes 15 seconds\n"
     ]
    }
   ],
   "source": [
    "pbs_index = 61\n",
    "params = get_sim_parameters(pbs_index, global_save_dir)\n",
    "seed = params[\"seed\"]\n",
    "random.seed(seed)\n",
    "job_type = params[\"job_type\"]\n",
    "interval = params[\"interval\"]\n",
    "tetrapod_group = params[\"tetrapod_group\"]\n",
    "sigma = params[\"sigma\"]\n",
    "density_per_km = params[\"density_per_km\"]\n",
    "save_dir = params[\"output_directory\"]\n",
    "sample_size, random_times = get_sample_size(interval, tetrapod_group, density_per_km)\n",
    "simulation = Simulation(logging_level=10)\n",
    "simulation.set_simulation_parameters(\n",
    "    seed=seed,\n",
    "    job_type=job_type,\n",
    "    output_directory=\"output/test/\",\n",
    "    min_speciation_rate=0.999,\n",
    "    sigma=sigma,\n",
    "    tau=0.0,\n",
    "    deme=density_per_km,\n",
    "    sample_size=sample_size,\n",
    "    max_time=60 * 60 * 21.5,\n",
    "    dispersal_method=\"normal\",\n",
    "    uses_spatial_sampling=True,\n",
    ")\n",
    "sample_file, fine_file, fragment_file = get_sim_type(\n",
    "    interval, tetrapod_group, data_dir, fragment_dir, \"pristine\", \n",
    ")\n",
    "simulation.set_map_files(sample_file=sample_file, fine_file=fine_file, coarse_file=\"none\")\n",
    "for t in random_times:\n",
    "    simulation.add_sample_time(time=t)\n",
    "\n",
    "try:\n",
    "    simulation.run()\n",
    "except IOError:\n",
    "    pass"
   ]
  },
  {
   "cell_type": "code",
   "execution_count": 7,
   "metadata": {},
   "outputs": [
    {
     "ename": "FileNotFoundError",
     "evalue": "File output/test/data_4_12.db does not exist.",
     "output_type": "error",
     "traceback": [
      "\u001b[0;31m---------------------------------------------------------------------------\u001b[0m",
      "\u001b[0;31mFileNotFoundError\u001b[0m                         Traceback (most recent call last)",
      "\u001b[0;32m<ipython-input-7-c68db74f8864>\u001b[0m in \u001b[0;36m<module>\u001b[0;34m\u001b[0m\n\u001b[0;32m----> 1\u001b[0;31m \u001b[0mct\u001b[0m \u001b[0;34m=\u001b[0m \u001b[0mCoalescenceTree\u001b[0m\u001b[0;34m(\u001b[0m\u001b[0msimulation\u001b[0m\u001b[0;34m)\u001b[0m\u001b[0;34m\u001b[0m\u001b[0;34m\u001b[0m\u001b[0m\n\u001b[0m\u001b[1;32m      2\u001b[0m \u001b[0mct\u001b[0m\u001b[0;34m.\u001b[0m\u001b[0mget_total_number_individuals\u001b[0m\u001b[0;34m(\u001b[0m\u001b[0;34m)\u001b[0m\u001b[0;34m\u001b[0m\u001b[0;34m\u001b[0m\u001b[0m\n",
      "\u001b[0;32m~/Documents/PhD/Code/pycoalescence/pycoalescence/coalescence_tree.py\u001b[0m in \u001b[0;36m__init__\u001b[0;34m(self, database, logging_level, log_output)\u001b[0m\n\u001b[1;32m    126\u001b[0m         \u001b[0mself\u001b[0m\u001b[0;34m.\u001b[0m\u001b[0m_create_logger\u001b[0m\u001b[0;34m(\u001b[0m\u001b[0mfile\u001b[0m\u001b[0;34m=\u001b[0m\u001b[0mlog_output\u001b[0m\u001b[0;34m)\u001b[0m\u001b[0;34m\u001b[0m\u001b[0;34m\u001b[0m\u001b[0m\n\u001b[1;32m    127\u001b[0m         \u001b[0;32mif\u001b[0m \u001b[0mdatabase\u001b[0m \u001b[0;32mis\u001b[0m \u001b[0;32mnot\u001b[0m \u001b[0;32mNone\u001b[0m\u001b[0;34m:\u001b[0m\u001b[0;34m\u001b[0m\u001b[0;34m\u001b[0m\u001b[0m\n\u001b[0;32m--> 128\u001b[0;31m             \u001b[0mself\u001b[0m\u001b[0;34m.\u001b[0m\u001b[0mset_database\u001b[0m\u001b[0;34m(\u001b[0m\u001b[0mdatabase\u001b[0m\u001b[0;34m)\u001b[0m\u001b[0;34m\u001b[0m\u001b[0;34m\u001b[0m\u001b[0m\n\u001b[0m\u001b[1;32m    129\u001b[0m         \u001b[0;31m# Set to true once speciation rates have been written to the output database.\u001b[0m\u001b[0;34m\u001b[0m\u001b[0;34m\u001b[0m\u001b[0;34m\u001b[0m\u001b[0m\n\u001b[1;32m    130\u001b[0m         \u001b[0mself\u001b[0m\u001b[0;34m.\u001b[0m\u001b[0mhas_outputted\u001b[0m \u001b[0;34m=\u001b[0m \u001b[0;32mFalse\u001b[0m\u001b[0;34m\u001b[0m\u001b[0;34m\u001b[0m\u001b[0m\n",
      "\u001b[0;32m~/Documents/PhD/Code/pycoalescence/pycoalescence/coalescence_tree.py\u001b[0m in \u001b[0;36mset_database\u001b[0;34m(self, filename)\u001b[0m\n\u001b[1;32m    676\u001b[0m                 \u001b[0;32mraise\u001b[0m \u001b[0msqlite3\u001b[0m\u001b[0;34m.\u001b[0m\u001b[0mError\u001b[0m\u001b[0;34m(\u001b[0m\u001b[0;34m\"Could not fetch SIMULATION_PARAMETERS. Table contains no data.\"\u001b[0m\u001b[0;34m)\u001b[0m\u001b[0;34m\u001b[0m\u001b[0;34m\u001b[0m\u001b[0m\n\u001b[1;32m    677\u001b[0m         \u001b[0;32melse\u001b[0m\u001b[0;34m:\u001b[0m\u001b[0;34m\u001b[0m\u001b[0;34m\u001b[0m\u001b[0m\n\u001b[0;32m--> 678\u001b[0;31m             \u001b[0;32mraise\u001b[0m \u001b[0mFileNotFoundError\u001b[0m\u001b[0;34m(\u001b[0m\u001b[0;34m\"File {} does not exist.\"\u001b[0m\u001b[0;34m.\u001b[0m\u001b[0mformat\u001b[0m\u001b[0;34m(\u001b[0m\u001b[0mfilename\u001b[0m\u001b[0;34m)\u001b[0m\u001b[0;34m)\u001b[0m\u001b[0;34m\u001b[0m\u001b[0;34m\u001b[0m\u001b[0m\n\u001b[0m\u001b[1;32m    679\u001b[0m \u001b[0;34m\u001b[0m\u001b[0m\n\u001b[1;32m    680\u001b[0m     def set_speciation_parameters(\n",
      "\u001b[0;31mFileNotFoundError\u001b[0m: File output/test/data_4_12.db does not exist."
     ]
    }
   ],
   "source": [
    "ct = CoalescenceTree(simulation)\n",
    "ct.get_total_number_individuals()"
   ]
  },
  {
   "cell_type": "code",
   "execution_count": 11,
   "metadata": {},
   "outputs": [
    {
     "data": {
      "text/plain": [
       "8.0"
      ]
     },
     "execution_count": 11,
     "metadata": {},
     "output_type": "execute_result"
    }
   ],
   "source": [
    "from pycoalescence import Map\n",
    "import numpy as np\n",
    "sample_map = Map(sample_file)\n",
    "sample_map.open()\n",
    "data = sample_map.data * density_per_km * sample_size\n",
    "data = np.floor(data)\n",
    "np.sum(data)"
   ]
  },
  {
   "cell_type": "code",
   "execution_count": 27,
   "metadata": {},
   "outputs": [
    {
     "data": {
      "text/plain": [
       "1062.0"
      ]
     },
     "execution_count": 27,
     "metadata": {},
     "output_type": "execute_result"
    }
   ],
   "source": [
    "# data_dir = \"/run/media/sam/Media/Paleo/Data/\"\n",
    "interval_map_path = os.path.join(data_dir, \"paleo_maps\", \"{}.tif\".format(interval))\n",
    "interval_map = Map(interval_map_path)\n",
    "x, y = sample_map.get_x_y()\n",
    "x_off, y_off = sample_map.calculate_offset(interval_map)\n",
    "np.floor(np.sum(interval_map.get_subset(x_off, y_off, x, y, no_data_value=0)*sample_map.data) * density_per_km * sample_size) * 9"
   ]
  },
  {
   "cell_type": "code",
   "execution_count": 11,
   "metadata": {},
   "outputs": [
    {
     "data": {
      "text/plain": [
       "221.43"
      ]
     },
     "execution_count": 11,
     "metadata": {},
     "output_type": "execute_result"
    }
   ],
   "source": [
    "121*0.61*3"
   ]
  },
  {
   "cell_type": "code",
   "execution_count": 31,
   "metadata": {},
   "outputs": [],
   "source": [
    "def compress_times(coalescence_tree):\n",
    "    if coalescence_tree.database is None:\n",
    "        raise IOError(\"Coalescence tree has not been opened\")\n",
    "    species_list = [list(x) for x in coalescence_tree.get_species_list()]\n",
    "    coalescence_tree._backup_species_list()\n",
    "    for each in species_list:\n",
    "        if each[6] == 1:\n",
    "            each[12] = 0.0\n",
    "    coalescence_tree.cursor.execute(\n",
    "        \"CREATE TABLE SPECIES_LIST (ID int PRIMARY KEY NOT NULL, unique_spec INT NOT NULL, xval INT NOT NULL, \"\n",
    "        \"yval INT NOT NULL, xwrap INT NOT NULL, ywrap INT NOT NULL, tip INT NOT NULL, speciated INT NOT \"\n",
    "        \"NULL, parent INT NOT NULL, existence INT NOT NULL, randnum REAL NOT NULL, gen_alive INT NOT \"\n",
    "        \"NULL, gen_added REAL NOT NULL)\"\n",
    "    )\n",
    "    coalescence_tree.cursor.executemany(\n",
    "        \"INSERT INTO SPECIES_LIST (ID,unique_spec,xval,yval,xwrap,ywrap,tip,speciated,parent,existence, \"\n",
    "        \"randnum,gen_alive,gen_added) VALUES (?,?,?,?,?,?,?,?,?,?,?,?,?)\",\n",
    "        species_list,\n",
    "    )\n",
    "    coalescence_tree.database.commit()"
   ]
  },
  {
   "cell_type": "code",
   "execution_count": 32,
   "metadata": {},
   "outputs": [],
   "source": [
    "c.wipe_data()\n",
    "compress_times(c)"
   ]
  },
  {
   "cell_type": "code",
   "execution_count": 33,
   "metadata": {},
   "outputs": [],
   "source": [
    "c.set_speciation_parameters(speciation_rates=[0.1, 0.2])\n",
    "c.apply()"
   ]
  },
  {
   "cell_type": "code",
   "execution_count": 34,
   "metadata": {},
   "outputs": [
    {
     "name": "stdout",
     "output_type": "stream",
     "text": [
      "Species richness in 1 at time 0.0 with sr 0.1 was 50 with 200 individuals\n",
      "Species richness in 2 at time 0.0 with sr 0.2 was 85 with 200 individuals\n"
     ]
    }
   ],
   "source": [
    "for ref in c.get_community_references():\n",
    "    params = c.get_community_parameters(ref)\n",
    "    print(\"Species richness in {} at time {} with sr {} was {} with {} individuals\".format(ref, \n",
    "                                                                      params[\"time\"],\n",
    "                                                                      params[\"speciation_rate\"],\n",
    "                                                                      c.get_species_richness(ref),\n",
    "                                                                                          c.get_number_individuals()))"
   ]
  },
  {
   "cell_type": "code",
   "execution_count": 2,
   "metadata": {
    "collapsed": true
   },
   "outputs": [],
   "source": [
    "import pandas as pd\n",
    "from tqdm import tqdm_notebook\n",
    "import os\n",
    "import lhsmdu\n",
    "import numpy as np\n",
    "from collections import OrderedDict\n",
    "from pycoalescence import CoalescenceTree"
   ]
  },
  {
   "cell_type": "code",
   "execution_count": 5,
   "metadata": {},
   "outputs": [
    {
     "name": "stdout",
     "output_type": "stream",
     "text": [
      "data_10_1.db\n",
      "data_10_10.db\n",
      "data_10_12.db\n",
      "data_10_11.db\n",
      "data_10_13.db\n",
      "data_10_14.db\n",
      "data_10_15.db\n",
      "data_10_16.db\n",
      "data_10_17.db\n",
      "data_10_18.db\n",
      "data_10_19.db\n",
      "data_10_2.db\n",
      "data_10_20.db\n",
      "data_10_21.db\n",
      "data_10_22.db\n",
      "data_10_23.db\n",
      "data_10_3.db\n",
      "data_10_24.db\n",
      "data_10_4.db\n",
      "data_10_5.db\n",
      "data_10_6.db\n",
      "data_10_7.db\n",
      "data_10_8.db\n",
      "data_10_9.db\n",
      "data_26_10.db\n",
      "data_26_1.db\n",
      "data_26_11.db\n",
      "data_26_12.db\n",
      "data_26_13.db\n",
      "data_26_14.db\n",
      "data_26_15.db\n",
      "data_26_16.db\n",
      "data_26_17.db\n",
      "data_26_18.db\n",
      "data_26_19.db\n",
      "data_26_2.db\n",
      "data_26_20.db\n",
      "data_26_21.db\n",
      "data_26_22.db\n",
      "data_26_23.db\n",
      "data_26_24.db\n",
      "data_26_3.db\n",
      "data_26_4.db\n",
      "data_26_5.db\n",
      "data_26_6.db\n",
      "data_26_7.db\n",
      "data_26_8.db\n",
      "data_26_9.db\n",
      "data_42_1.db\n",
      "data_42_10.db\n",
      "data_42_11.db\n",
      "data_42_12.db\n",
      "data_42_14.db\n",
      "data_42_15.db\n",
      "data_42_13.db\n",
      "data_42_16.db\n",
      "data_42_17.db\n",
      "data_42_18.db\n",
      "data_42_19.db\n",
      "data_42_2.db\n",
      "data_42_20.db\n",
      "data_42_21.db\n",
      "data_42_22.db\n",
      "data_42_23.db\n",
      "data_42_24.db\n",
      "data_42_3.db\n",
      "data_42_4.db\n",
      "data_42_5.db\n",
      "data_42_6.db\n",
      "data_42_7.db\n",
      "data_42_8.db\n",
      "data_42_9.db\n"
     ]
    }
   ],
   "source": [
    "job_types = [10, 26, 42]\n",
    "input_dir_fragmented = \"/run/media/sam/Media/Paleo/Results/PaleoMain/Sim8/\"\n",
    "totals = [0, 0, 0]\n",
    "for i, pc in enumerate([20, 40, 80]):\n",
    "    folder = os.path.join(input_dir_fragmented, str(pc))\n",
    "    for file in os.listdir(folder):\n",
    "        try:\n",
    "            ct = CoalescenceTree(os.path.join(folder, file))\n",
    "        except Exception:\n",
    "            continue\n",
    "        params = ct.get_simulation_parameters()\n",
    "        if job_types[i] == params[\"job_type\"]:\n",
    "            if \"kasimovian\" not in params[\"sample_file\"] and \"amniote\" not in params[\"sample_file\"]:\n",
    "                raise ValueError(\"File at {} is not kasimovian, amniote\".format(file))\n",
    "            print(file)\n",
    "            totals[i] += 1"
   ]
  },
  {
   "cell_type": "code",
   "execution_count": 6,
   "metadata": {},
   "outputs": [
    {
     "data": {
      "text/plain": [
       "[24, 24, 24]"
      ]
     },
     "execution_count": 6,
     "metadata": {},
     "output_type": "execute_result"
    }
   ],
   "source": [
    "totals"
   ]
  },
  {
   "cell_type": "code",
   "execution_count": 3,
   "metadata": {},
   "outputs": [
    {
     "data": {
      "text/plain": [
       "6.071428760886192"
      ]
     },
     "execution_count": 3,
     "metadata": {},
     "output_type": "execute_result"
    }
   ],
   "source": [
    "from pycoalescence import Map\n",
    "sample_map = \"/run/media/sam/Media/Paleo/Data/paleo_maps/paleomask_kasimovian_amniote.tif\"\n",
    "m = Map(sample_map)\n",
    "m.open()\n",
    "np.sum(m.data)"
   ]
  },
  {
   "cell_type": "code",
   "execution_count": 4,
   "metadata": {},
   "outputs": [
    {
     "name": "stderr",
     "output_type": "stream",
     "text": [
      "Checking folder existance.../run/media/sam/Media/Paleo/Data/paleo_maps/fragmented/kasimovian_0.2_fragmented.tif exists.               \n",
      "Checking folder existance...output exists.               \n",
      "Checking folder existance.../run/media/sam/Media/Paleo/Data/paleo_maps/paleomask_kasimovian_amniote.tif exists.               \n",
      "Checking folder existance...done.                                                                \n",
      "Checking for unfinished simulations...done.\n",
      "No files found containing unfinished simulations.\n",
      "*************************************************\n",
      "Setting up simulation...\n",
      "Dispersal (tau, sigma): 0, 1.6\n",
      "Dispersal method: normal\n",
      "Fine map\n",
      "-file: /run/media/sam/Media/Paleo/Data/paleo_maps/fragmented/kasimovian_0.2_fragmented.tif\n",
      "-dimensions: (32072, 15486)\n",
      "-offset: (11408, 6679)\n",
      "Coarse map\n",
      "-file: none\n",
      "-dimensions: (32072, 15486)\n",
      "-offset: (0, 0)\n",
      "-scale: 1\n",
      "Sample grid\n",
      "-file: /run/media/sam/Media/Paleo/Data/paleo_maps/paleomask_kasimovian_amniote.tif\n",
      "-dimensions: (4956, 907)\n",
      "-optimised area: (4956, 907)\n",
      "-optimised offsets: (0, 0)\n",
      "Seed: 1\n",
      "Speciation rate: 0.001\n",
      "Job Type: 1\n",
      "Max time: 81000\n",
      "Deme: 200\n",
      "Deme sample: 0.35\n",
      "Output directory: output\n",
      "Disp Rel Cost: 1\n",
      "Times:  0.0\n",
      "Checking folder existance.../run/media/sam/Media/Paleo/Data/paleo_maps/paleomask_kasimovian_amniote.tif exists.               \n",
      "Checking folder existance.../run/media/sam/Media/Paleo/Data/paleo_maps/fragmented/kasimovian_0.2_fragmented.tif exists.               \n",
      "Importing /run/media/sam/Media/Paleo/Data/paleo_maps/fragmented/kasimovian_0.2_fragmented.tif \n",
      "No data value is: 10000\n",
      "Getting geo transform...done.\n",
      "Affine transform is -142.627, 0.01, 0, 69.6599, 0, -0.01\n",
      "Importing /run/media/sam/Media/Paleo/Data/paleo_maps/fragmented/kasimovian_0.2_fragmented.tif ....................done.\n",
      "No data value is: 10000\n",
      "Getting geo transform...done.\n",
      "Affine transform is -142.627, 0.01, 0, 69.6599, 0, -0.01\n",
      "Importing /run/media/sam/Media/Paleo/Data/paleo_maps/paleomask_kasimovian_amniote.tif \n",
      "No data value is: 0\n",
      "Getting geo transform...done.\n",
      "Affine transform is -28.545, 0.01, 0, 2.865, 0, -0.01\n",
      "Importing /run/media/sam/Media/Paleo/Data/paleo_maps/paleomask_kasimovian_amniote.tif ....................done.\n",
      "Using dispersal kernel.\n",
      "Initial count is 425\n",
      "Setting up simulation...done.                           \n",
      "Number of individuals simulating: 425\n",
      "*************************************************\n",
      "Beginning simulations...done.\n",
      "Finalising data...done.\n",
      "Creating SQL database file...\n",
      "\tChecking for existing folders....\n",
      "\tGenerating species list....\n",
      "\tExecuting SQL commands....\n",
      "No additional speciation rates to apply.\n",
      "Speciation rate is: 0.001.\n",
      "Time is: 0.\n",
      "Applying speciation rate 0.001 at time 0...\n",
      "\tGenerating biodiversity...\n",
      "\tCalculating coalescence tree...\n",
      "\tAssigning species IDs...\n",
      "\tCalculating species abundances...\n",
      "\tNumber of species: 319\n",
      "\tGenerating SPECIES_ABUNDANCES table...\n",
      "\tWriting to output/data_1_1.db...\n",
      "Total generations simulated (steps): 11496 (336824)\n",
      "Setup time was 0 minutes 11 seconds\n",
      "Simulation time was 0 hours 0 minutes 0 seconds\n",
      "File output and species calculation time was 0 minutes 0 seconds\n",
      "SQL output time was 0 minutes 0 seconds\n",
      "Total simulation and output time was 0 hours 0 minutes 11 seconds\n"
     ]
    }
   ],
   "source": [
    "from pycoalescence import Simulation\n",
    "density_per_km=200\n",
    "sample_size = min(10*7 / density_per_km, 1.0)\n",
    "simulation = Simulation(logging_level=10)\n",
    "simulation.set_simulation_parameters(seed=1, job_type=1, output_directory=\"output\",\n",
    "                                     min_speciation_rate=10 ** -3, sigma=1.6, tau=0.0, deme=density_per_km,\n",
    "                                     sample_size=sample_size, max_time=60 * 60 * 22.5, dispersal_method=\"normal\",\n",
    "                                     uses_spatial_sampling=True)\n",
    "sample_file = \"/run/media/sam/Media/Paleo/Data/paleo_maps/paleomask_kasimovian_amniote.tif\"\n",
    "fine_file = \"/run/media/sam/Media/Paleo/Data/paleo_maps/fragmented/kasimovian_0.2_fragmented.tif\"\n",
    "simulation.set_map_files(sample_file=sample_file, fine_file=fine_file, coarse_file=\"none\")\n",
    "simulation.run()"
   ]
  },
  {
   "cell_type": "code",
   "execution_count": null,
   "metadata": {},
   "outputs": [],
   "source": []
  }
 ],
 "metadata": {
  "kernelspec": {
   "display_name": "Python 3",
   "language": "python",
   "name": "python3"
  },
  "language_info": {
   "codemirror_mode": {
    "name": "ipython",
    "version": 3
   },
   "file_extension": ".py",
   "mimetype": "text/x-python",
   "name": "python",
   "nbconvert_exporter": "python",
   "pygments_lexer": "ipython3",
   "version": "3.7.3"
  }
 },
 "nbformat": 4,
 "nbformat_minor": 2
}
