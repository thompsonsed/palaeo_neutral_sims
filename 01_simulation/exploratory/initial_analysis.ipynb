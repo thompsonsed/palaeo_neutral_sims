{
 "cells": [
  {
   "cell_type": "markdown",
   "metadata": {
    "collapsed": true
   },
   "source": [
    "# Initial analysis script before all simulations are completed\n",
    "\n",
    "- item\n",
    "- item2"
   ]
  },
  {
   "cell_type": "code",
   "execution_count": 1,
   "metadata": {},
   "outputs": [],
   "source": [
    "import os\n",
    "from pycoalescence import CoalescenceTree\n",
    "# from PyCoalescence.helper import update_parameter_names\n",
    "import pandas as pd\n",
    "import shutil\n",
    "import sqlite3\n",
    "from pycoalescence.coalescence_tree import check_sql_table_exist\n",
    "from pycoalescence.helper import update_parameter_names"
   ]
  },
  {
   "cell_type": "code",
   "execution_count": 2,
   "metadata": {},
   "outputs": [],
   "source": [
    "def percent_cover_detection(fine_map_file):\n",
    "\t\"\"\"\n",
    "\tDetects the percentage cover from the fine map path\n",
    "\t:param fine_map_file: path to check for\n",
    "\t:return: the simulation percentage cover\n",
    "\t\"\"\"\n",
    "\tfor pc in [0.1, 0.2, 0.5]:\n",
    "\t\tif \"_{}_\".format(pc) in fine_map_file:\n",
    "\t\t\treturn pc\n",
    "\traise ValueError(\"No percentage cover detected!\")"
   ]
  },
  {
   "cell_type": "code",
   "execution_count": 3,
   "metadata": {},
   "outputs": [],
   "source": [
    "def sim_type_detection(fine_map_file):\n",
    "\t\"\"\"\n",
    "\tDetects the simulation type from the fine map path (because I didn't save it anywhere sensible!\n",
    "\t:param fine_map_file: the path to check for\n",
    "\t:return the sim type\n",
    "\t\"\"\"\n",
    "\tfor type in [\"early_carboniferous\", \"late_carboniferous\", \"permian\"]:\n",
    "\t\tif type in fine_map_file:\n",
    "\t\t\treturn type\n",
    "\traise ValueError(\"No type detected!\")"
   ]
  },
  {
   "cell_type": "code",
   "execution_count": 4,
   "metadata": {},
   "outputs": [],
   "source": [
    "# Set the import directories and variables - paths relative to the jupyter notebook directory\n",
    "fragmented=\"fragmented\" \n",
    "# fragmented=\"\" # put back if want to analyse normal sims\n",
    "results_dir = \"/Users/samthompson/Documents/PhD/PaleoSampling/Results/CoalescenceSimulations{}\".format(fragmented)\n",
    "data_dir = \"/Volumes/Seagate 3TB/Paleo/Data\"\n",
    "speciation_rates = [0.0001, 0.00001, 0.000001, 0.0000001, 0.00000001]"
   ]
  },
  {
   "cell_type": "code",
   "execution_count": 9,
   "metadata": {
    "collapsed": true
   },
   "outputs": [],
   "source": [
    "# Delete all simulations which haven't completed yet.\n",
    "for file in os.listdir(results_dir):\n",
    "\tif \".db\" in file:\n",
    "\t\ttry:\n",
    "\t\t\tt = CoalescenceTree(os.path.join(results_dir, file))\n",
    "\t\texcept IOError:\n",
    "\t\t\tos.remove(os.path.join(results_dir, file))\n",
    "\t\t\t"
   ]
  },
  {
   "cell_type": "code",
   "execution_count": 10,
   "metadata": {
    "collapsed": true
   },
   "outputs": [],
   "source": [
    "# Update the file names (only needs to be run once)\n",
    "for file in os.listdir(results_dir):\n",
    "\tif \".db\" in file:\n",
    "\t\ttry:\n",
    "\t\t\tfile_path = os.path.join(results_dir, file)\n",
    "\t\t\ttry:\n",
    "\t\t\t\tt = CoalescenceTree(file_path, logging_level=50)\n",
    "\t\t\t\tsim_params = t.get_simulation_parameters()\n",
    "\t\t\texcept sqlite3.OperationalError as soe:\n",
    "\t\t\t\tupdate_parameter_names(file_path)\n",
    "\t\texcept Exception as e:\n",
    "\t\t\tprint(\"Error in {}: {}\".format(file, e))"
   ]
  },
  {
   "cell_type": "code",
   "execution_count": 12,
   "metadata": {
    "collapsed": false
   },
   "outputs": [],
   "source": [
    "# Calculate the biodiversity metrics -  can take a bit of time\n",
    "for file in os.listdir(results_dir):\n",
    "\tif \".db\" in file:\n",
    "\t\tt = CoalescenceTree(os.path.join(results_dir, file))\n",
    "\t\tsim_params = t.get_simulation_parameters()\n",
    "\t\tlandscape_type = sim_type_detection(sim_params[\"fine_map_file\"])\n",
    "\t\tsim_type = sim_type_detection(sim_params[\"fine_map_file\"])\n",
    "\t\tt.set_speciation_params(record_spatial=True,\n",
    "\t\t\t\t\t\t\t\trecord_fragments=os.path.join(data_dir, \"configs\",\n",
    "\t\t\t\t\t\t\t\t\t\t\t\t\t\t\t  \"fragments_{}.csv\".format(landscape_type)),\n",
    "\t\t\t\t\t\t\t\tspeciation_rates=speciation_rates)\n",
    "\t\tt.wipe_data()\n",
    "\t\tt.apply()\n",
    "\t\tt.import_comparison_data(os.path.join(data_dir, \"databases\", \"{}.db\".format(landscape_type)))\n",
    "\t\t# t.adjust_data()\n",
    "\t\tt._clear_goodness_of_fit()\n",
    "\t\tt.calculate_fragment_richness()\n",
    "\t\t# t.calculate_alpha_diversity()\n",
    "\t\tt.calculate_beta_diversity()\n",
    "\t\tt.calculate_goodness_of_fit()"
   ]
  },
  {
   "cell_type": "code",
   "execution_count": 5,
   "metadata": {
    "collapsed": true
   },
   "outputs": [
    {
     "name": "stdout",
     "output_type": "stream",
     "text": [
      "data_0_0.db\ndata_0_1.db\n"
     ]
    },
    {
     "name": "stdout",
     "output_type": "stream",
     "text": [
      "data_0_10.db\ndata_0_11.db\n"
     ]
    },
    {
     "name": "stdout",
     "output_type": "stream",
     "text": [
      "data_0_12.db\n"
     ]
    },
    {
     "name": "stdout",
     "output_type": "stream",
     "text": [
      "data_0_13.db\n"
     ]
    },
    {
     "name": "stdout",
     "output_type": "stream",
     "text": [
      "data_0_14.db\ndata_0_17.db\n"
     ]
    },
    {
     "name": "stdout",
     "output_type": "stream",
     "text": [
      "data_0_18.db\ndata_0_19.db\n"
     ]
    },
    {
     "name": "stdout",
     "output_type": "stream",
     "text": [
      "data_0_20.db\ndata_0_22.db\n"
     ]
    },
    {
     "name": "stdout",
     "output_type": "stream",
     "text": [
      "data_0_23.db\ndata_0_3.db\n"
     ]
    },
    {
     "name": "stdout",
     "output_type": "stream",
     "text": [
      "data_0_4.db\ndata_0_5.db\n"
     ]
    },
    {
     "name": "stdout",
     "output_type": "stream",
     "text": [
      "data_0_8.db\ndata_0_9.db\n"
     ]
    },
    {
     "name": "stderr",
     "output_type": "stream",
     "text": [
      "No distances found for 5 - likely no species exist with more than one location."
     ]
    },
    {
     "name": "stderr",
     "output_type": "stream",
     "text": [
      "No distances found for 3 - likely no species exist with more than one location."
     ]
    },
    {
     "name": "stderr",
     "output_type": "stream",
     "text": [
      "No distances found for 4 - likely no species exist with more than one location."
     ]
    },
    {
     "name": "stderr",
     "output_type": "stream",
     "text": [
      "No distances found for 5 - likely no species exist with more than one location."
     ]
    },
    {
     "name": "stderr",
     "output_type": "stream",
     "text": [
      "No distances found for 3 - likely no species exist with more than one location."
     ]
    },
    {
     "name": "stderr",
     "output_type": "stream",
     "text": [
      "No distances found for 4 - likely no species exist with more than one location."
     ]
    },
    {
     "name": "stderr",
     "output_type": "stream",
     "text": [
      "No distances found for 5 - likely no species exist with more than one location."
     ]
    },
    {
     "name": "stderr",
     "output_type": "stream",
     "text": [
      "No distances found for 2 - likely no species exist with more than one location."
     ]
    },
    {
     "name": "stderr",
     "output_type": "stream",
     "text": [
      "No distances found for 3 - likely no species exist with more than one location."
     ]
    },
    {
     "name": "stderr",
     "output_type": "stream",
     "text": [
      "No distances found for 4 - likely no species exist with more than one location."
     ]
    },
    {
     "name": "stderr",
     "output_type": "stream",
     "text": [
      "No distances found for 5 - likely no species exist with more than one location."
     ]
    },
    {
     "name": "stdout",
     "output_type": "stream",
     "text": [
      "data_1_0.db\ndata_1_1.db\ndata_1_10.db\ndata_1_11.db\ndata_1_12.db\ndata_1_13.db\n"
     ]
    },
    {
     "name": "stderr",
     "output_type": "stream",
     "text": [
      "No distances found for 2 - likely no species exist with more than one location."
     ]
    },
    {
     "name": "stderr",
     "output_type": "stream",
     "text": [
      "No distances found for 3 - likely no species exist with more than one location."
     ]
    },
    {
     "name": "stderr",
     "output_type": "stream",
     "text": [
      "No distances found for 4 - likely no species exist with more than one location."
     ]
    },
    {
     "name": "stderr",
     "output_type": "stream",
     "text": [
      "No distances found for 5 - likely no species exist with more than one location."
     ]
    },
    {
     "name": "stderr",
     "output_type": "stream",
     "text": [
      "No distances found for 2 - likely no species exist with more than one location."
     ]
    },
    {
     "name": "stderr",
     "output_type": "stream",
     "text": [
      "No distances found for 3 - likely no species exist with more than one location."
     ]
    },
    {
     "name": "stderr",
     "output_type": "stream",
     "text": [
      "No distances found for 4 - likely no species exist with more than one location."
     ]
    },
    {
     "name": "stderr",
     "output_type": "stream",
     "text": [
      "No distances found for 5 - likely no species exist with more than one location."
     ]
    },
    {
     "name": "stderr",
     "output_type": "stream",
     "text": [
      "No distances found for 2 - likely no species exist with more than one location."
     ]
    },
    {
     "name": "stderr",
     "output_type": "stream",
     "text": [
      "No distances found for 3 - likely no species exist with more than one location."
     ]
    },
    {
     "name": "stderr",
     "output_type": "stream",
     "text": [
      "No distances found for 4 - likely no species exist with more than one location."
     ]
    },
    {
     "name": "stderr",
     "output_type": "stream",
     "text": [
      "No distances found for 5 - likely no species exist with more than one location."
     ]
    },
    {
     "name": "stdout",
     "output_type": "stream",
     "text": [
      "data_1_14.db\ndata_1_15.db\ndata_1_16.db\ndata_1_17.db\n"
     ]
    },
    {
     "name": "stderr",
     "output_type": "stream",
     "text": [
      "No distances found for 3 - likely no species exist with more than one location."
     ]
    },
    {
     "name": "stderr",
     "output_type": "stream",
     "text": [
      "No distances found for 4 - likely no species exist with more than one location."
     ]
    },
    {
     "name": "stderr",
     "output_type": "stream",
     "text": [
      "No distances found for 5 - likely no species exist with more than one location."
     ]
    },
    {
     "name": "stderr",
     "output_type": "stream",
     "text": [
      "No distances found for 3 - likely no species exist with more than one location."
     ]
    },
    {
     "name": "stderr",
     "output_type": "stream",
     "text": [
      "No distances found for 4 - likely no species exist with more than one location."
     ]
    },
    {
     "name": "stderr",
     "output_type": "stream",
     "text": [
      "No distances found for 5 - likely no species exist with more than one location."
     ]
    },
    {
     "name": "stderr",
     "output_type": "stream",
     "text": [
      "No distances found for 2 - likely no species exist with more than one location."
     ]
    },
    {
     "name": "stderr",
     "output_type": "stream",
     "text": [
      "No distances found for 3 - likely no species exist with more than one location."
     ]
    },
    {
     "name": "stderr",
     "output_type": "stream",
     "text": [
      "No distances found for 4 - likely no species exist with more than one location."
     ]
    },
    {
     "name": "stderr",
     "output_type": "stream",
     "text": [
      "No distances found for 5 - likely no species exist with more than one location."
     ]
    },
    {
     "name": "stderr",
     "output_type": "stream",
     "text": [
      "No distances found for 3 - likely no species exist with more than one location."
     ]
    },
    {
     "name": "stderr",
     "output_type": "stream",
     "text": [
      "No distances found for 4 - likely no species exist with more than one location."
     ]
    },
    {
     "name": "stderr",
     "output_type": "stream",
     "text": [
      "No distances found for 5 - likely no species exist with more than one location."
     ]
    },
    {
     "name": "stderr",
     "output_type": "stream",
     "text": [
      "No distances found for 2 - likely no species exist with more than one location."
     ]
    },
    {
     "name": "stderr",
     "output_type": "stream",
     "text": [
      "No distances found for 3 - likely no species exist with more than one location."
     ]
    },
    {
     "name": "stderr",
     "output_type": "stream",
     "text": [
      "No distances found for 4 - likely no species exist with more than one location."
     ]
    },
    {
     "name": "stderr",
     "output_type": "stream",
     "text": [
      "No distances found for 5 - likely no species exist with more than one location."
     ]
    },
    {
     "name": "stdout",
     "output_type": "stream",
     "text": [
      "data_1_18.db\ndata_1_19.db\ndata_1_2.db\ndata_1_20.db\n"
     ]
    },
    {
     "name": "stderr",
     "output_type": "stream",
     "text": [
      "No distances found for 2 - likely no species exist with more than one location."
     ]
    },
    {
     "name": "stderr",
     "output_type": "stream",
     "text": [
      "No distances found for 3 - likely no species exist with more than one location."
     ]
    },
    {
     "name": "stderr",
     "output_type": "stream",
     "text": [
      "No distances found for 4 - likely no species exist with more than one location."
     ]
    },
    {
     "name": "stderr",
     "output_type": "stream",
     "text": [
      "No distances found for 5 - likely no species exist with more than one location."
     ]
    },
    {
     "name": "stderr",
     "output_type": "stream",
     "text": [
      "No distances found for 5 - likely no species exist with more than one location."
     ]
    },
    {
     "name": "stderr",
     "output_type": "stream",
     "text": [
      "No distances found for 3 - likely no species exist with more than one location."
     ]
    },
    {
     "name": "stderr",
     "output_type": "stream",
     "text": [
      "No distances found for 4 - likely no species exist with more than one location."
     ]
    },
    {
     "name": "stderr",
     "output_type": "stream",
     "text": [
      "No distances found for 5 - likely no species exist with more than one location."
     ]
    },
    {
     "name": "stderr",
     "output_type": "stream",
     "text": [
      "No distances found for 2 - likely no species exist with more than one location."
     ]
    },
    {
     "name": "stderr",
     "output_type": "stream",
     "text": [
      "No distances found for 3 - likely no species exist with more than one location."
     ]
    },
    {
     "name": "stderr",
     "output_type": "stream",
     "text": [
      "No distances found for 4 - likely no species exist with more than one location."
     ]
    },
    {
     "name": "stderr",
     "output_type": "stream",
     "text": [
      "No distances found for 5 - likely no species exist with more than one location."
     ]
    },
    {
     "name": "stderr",
     "output_type": "stream",
     "text": [
      "No distances found for 4 - likely no species exist with more than one location."
     ]
    },
    {
     "name": "stderr",
     "output_type": "stream",
     "text": [
      "No distances found for 5 - likely no species exist with more than one location."
     ]
    },
    {
     "name": "stdout",
     "output_type": "stream",
     "text": [
      "data_1_21.db\ndata_1_22.db\ndata_1_23.db\ndata_1_24.db\ndata_1_3.db\n"
     ]
    },
    {
     "name": "stderr",
     "output_type": "stream",
     "text": [
      "No distances found for 2 - likely no species exist with more than one location."
     ]
    },
    {
     "name": "stderr",
     "output_type": "stream",
     "text": [
      "No distances found for 3 - likely no species exist with more than one location."
     ]
    },
    {
     "name": "stderr",
     "output_type": "stream",
     "text": [
      "No distances found for 4 - likely no species exist with more than one location."
     ]
    },
    {
     "name": "stderr",
     "output_type": "stream",
     "text": [
      "No distances found for 5 - likely no species exist with more than one location."
     ]
    },
    {
     "name": "stderr",
     "output_type": "stream",
     "text": [
      "No distances found for 2 - likely no species exist with more than one location."
     ]
    },
    {
     "name": "stderr",
     "output_type": "stream",
     "text": [
      "No distances found for 3 - likely no species exist with more than one location."
     ]
    },
    {
     "name": "stderr",
     "output_type": "stream",
     "text": [
      "No distances found for 4 - likely no species exist with more than one location."
     ]
    },
    {
     "name": "stderr",
     "output_type": "stream",
     "text": [
      "No distances found for 5 - likely no species exist with more than one location."
     ]
    },
    {
     "name": "stderr",
     "output_type": "stream",
     "text": [
      "No distances found for 3 - likely no species exist with more than one location."
     ]
    },
    {
     "name": "stderr",
     "output_type": "stream",
     "text": [
      "No distances found for 4 - likely no species exist with more than one location."
     ]
    },
    {
     "name": "stderr",
     "output_type": "stream",
     "text": [
      "No distances found for 5 - likely no species exist with more than one location."
     ]
    },
    {
     "name": "stderr",
     "output_type": "stream",
     "text": [
      "No distances found for 3 - likely no species exist with more than one location."
     ]
    },
    {
     "name": "stderr",
     "output_type": "stream",
     "text": [
      "No distances found for 4 - likely no species exist with more than one location."
     ]
    },
    {
     "name": "stderr",
     "output_type": "stream",
     "text": [
      "No distances found for 5 - likely no species exist with more than one location."
     ]
    },
    {
     "name": "stdout",
     "output_type": "stream",
     "text": [
      "data_1_4.db\ndata_1_5.db\ndata_1_6.db\ndata_1_7.db\ndata_1_8.db\n"
     ]
    },
    {
     "name": "stderr",
     "output_type": "stream",
     "text": [
      "No distances found for 3 - likely no species exist with more than one location."
     ]
    },
    {
     "name": "stderr",
     "output_type": "stream",
     "text": [
      "No distances found for 4 - likely no species exist with more than one location."
     ]
    },
    {
     "name": "stderr",
     "output_type": "stream",
     "text": [
      "No distances found for 5 - likely no species exist with more than one location."
     ]
    },
    {
     "name": "stdout",
     "output_type": "stream",
     "text": [
      "data_1_9.db\ndata_2_1.db\ndata_2_10.db\n"
     ]
    },
    {
     "name": "stdout",
     "output_type": "stream",
     "text": [
      "data_2_11.db\ndata_2_12.db\n"
     ]
    },
    {
     "name": "stdout",
     "output_type": "stream",
     "text": [
      "data_2_14.db\ndata_2_15.db\n"
     ]
    },
    {
     "name": "stdout",
     "output_type": "stream",
     "text": [
      "data_2_17.db\ndata_2_18.db\n"
     ]
    },
    {
     "name": "stdout",
     "output_type": "stream",
     "text": [
      "data_2_2.db\ndata_2_22.db\n"
     ]
    },
    {
     "name": "stdout",
     "output_type": "stream",
     "text": [
      "data_2_23.db\ndata_2_24.db\n"
     ]
    },
    {
     "name": "stdout",
     "output_type": "stream",
     "text": [
      "data_2_3.db\ndata_2_4.db\n"
     ]
    },
    {
     "name": "stdout",
     "output_type": "stream",
     "text": [
      "data_2_5.db\ndata_2_6.db\n"
     ]
    },
    {
     "name": "stdout",
     "output_type": "stream",
     "text": [
      "data_2_7.db\ndata_2_8.db\n"
     ]
    },
    {
     "name": "stdout",
     "output_type": "stream",
     "text": [
      "data_2_9.db\n"
     ]
    }
   ],
   "source": [
    "# Sample from the simulations\n",
    "tmp = []\n",
    "distance_sim_tmp = []\n",
    "fragment_abundances = []\n",
    "for file in os.listdir(results_dir):\n",
    "\tif \".db\" in file:\n",
    "\t\tprint(file)\n",
    "\t\tt = CoalescenceTree(os.path.join(results_dir, file), logging_level=10)\n",
    "\t\tif check_sql_table_exist(t.database, \"SPECIES_DISTANCE_SIMILARITY\"):\n",
    "\t\t\tt.cursor.execute(\"DROP TABLE IF EXISTS SPECIES_DISTANCE_SIMILARITY\")\n",
    "\t\tt.calculate_species_distance_similarity()\n",
    "\t\tfor sr in speciation_rates:\n",
    "\t\t\t\tref = t.get_community_reference(speciation_rate=sr, time=0.0, fragments=True)\n",
    "\t\t\t\tspec_r = t.cursor.execute(\"SELECT actual FROM BIODIVERSITY_METRICS WHERE\"\n",
    "\t\t\t\t\t\t\t\t\t \" community_reference==? AND fragment=='whole' AND \"\n",
    "\t\t\t\t\t\t\t\t\t \"metric=='fragment_richness'\", \n",
    "\t\t\t\t\t\t\t\t\t (ref,)).fetchall()[0][0]\n",
    "\t\t\t\tb = t.cursor.execute(\"SELECT actual FROM BIODIVERSITY_METRICS WHERE\"\n",
    "\t\t\t\t\t\t\t\t\t \" community_reference==? AND fragment=='whole' AND \"\n",
    "\t\t\t\t\t\t\t\t\t \"metric=='beta_diversity'\", \n",
    "\t\t\t\t\t\t\t\t\t (ref,)).fetchall()[0][0]\n",
    "\t\t\t\ta = t.cursor.execute(\"SELECT actual FROM BIODIVERSITY_METRICS WHERE\"\n",
    "\t\t\t\t\t\t\t\t\t \" community_reference==? AND fragment=='whole' AND \"\n",
    "\t\t\t\t\t\t\t\t\t \"metric=='alpha_diversity'\", \n",
    "\t\t\t\t\t\t\t\t\t (ref,)).fetchall()[0][0]\n",
    "\t\t\t\tsim_params = t.get_simulation_parameters()\n",
    "\t\t\t\tspecies_richness = t.get_richness(ref)\n",
    "\t\t\t\tbeta = t.get_beta_diversity(ref)\n",
    "\t\t\t\talpha = t.get_alpha_diversity(ref)\n",
    "\t\t\t\tgoodness_fit = t.get_goodness_of_fit(reference=ref)\n",
    "\t\t\t\tsim_type = sim_type_detection(sim_params[\"fine_map_file\"])\n",
    "\t\t\t\tpc = percent_cover_detection(sim_params[\"fine_map_file\"])\n",
    "\t\t\t\ttmp.append({\"type\": sim_type, \"sigma\" : sim_params[\"sigma\"], \"speciation_rate\" : sr,\n",
    "\t\t\t\t\t\t\t\"deme\" : sim_params[\"deme\"], \"richness\" : species_richness,\n",
    "\t\t\t\t\t\t\t\"beta_diversity\" : beta, \"alpha_diversity\" : alpha,\n",
    "\t\t\t\t\t\t   \t\"gof\" : goodness_fit, \"actual_richness\" : spec_r, \"actual_beta\" : b,\n",
    "\t\t\t\t\t\t\t\"actual_alpha\" : a, \"percent_cover\": pc})\n",
    "\t\t\t\t# try:\n",
    "\t\t\t\tdistance_sim = t.get_species_distance_similarity(ref)\n",
    "\t\t\t\tfor distance, no_ind in distance_sim:\n",
    "\t\t\t\t\tdistance_sim_tmp.append({\"type\": sim_type, \"sigma\" : sim_params[\"sigma\"], \"speciation_rate\" : sr,\n",
    "\t\t\t\t\t\t\t\"deme\" : sim_params[\"deme\"], \"richness\" : species_richness,\n",
    "\t\t\t\t\t\t\t\"beta_diversity\" : beta, \"alpha_diversity\" : alpha,\n",
    "\t\t\t\t\t\t   \t\"gof\" : goodness_fit, \"actual_richness\" : spec_r, \"actual_beta\" : b,\n",
    "\t\t\t\t\t\t\t\"actual_alpha\" : a, \"distance\" : distance, \"no_individuals\" : no_ind,\"percent_cover\": pc})\n",
    "\t\t\t\tfor fragment in t.get_fragment_list(ref):\n",
    "\t\t\t\t\tr = t.get_fragment_richness(fragment, ref)\n",
    "\t\t\t\t\tfragment_abundances.append({\"type\": sim_type, \"sigma\" : sim_params[\"sigma\"], \"speciation_rate\" : sr,\n",
    "\t\t\t\t\t\t\t\t\t\t\t\t\"deme\" : sim_params[\"deme\"], \"richness\" : r, \"fragment\" : fragment,\n",
    "\t\t\t\t\t\t\t\t\t\t\t\t\"percent_cover\": pc})\n",
    "\t\t\t\t\n",
    "df = pd.DataFrame(tmp)\n",
    "df_distance_sim = pd.DataFrame(distance_sim_tmp)\n",
    "df_fragment_abundances = pd.DataFrame(fragment_abundances)"
   ]
  },
  {
   "cell_type": "code",
   "execution_count": 6,
   "metadata": {},
   "outputs": [],
   "source": [
    "# Save the output to csv\n",
    "src_csv = os.path.join(results_dir, \"results_{}.csv\".format(fragmented))\n",
    "df.to_csv(src_csv, index=False)\n",
    "src_csv2 = os.path.join(results_dir, \"results_distance_sim_{}.csv\".format(fragmented))\n",
    "df_distance_sim.to_csv(src_csv2)\n",
    "src_csv3 = os.path.join(results_dir, \"results_fragment_abundances_{}.csv\".format(fragmented))\n",
    "df_fragment_abundances.to_csv(src_csv3)"
   ]
  },
  {
   "cell_type": "code",
   "execution_count": 7,
   "metadata": {},
   "outputs": [
    {
     "data": {
      "text/plain": [
       "'/Users/samthompson/Documents/PhD/PaleoSampling/Results/results_fragment_abundances_fragmented.csv'"
      ]
     },
     "execution_count": 7,
     "metadata": {},
     "output_type": "execute_result"
    }
   ],
   "source": [
    "# Move the output csvs - change fragmented variable as appropriate\n",
    "dst_folder = \"/Users/samthompson/Documents/PhD/PaleoSampling/Results\"\n",
    "dst_csv = os.path.join(dst_folder, \"results_{}.csv\".format(fragmented))\n",
    "dst_csv2 = os.path.join(dst_folder, \"results_distance_sim_{}.csv\".format(fragmented))\n",
    "dst_csv3 = os.path.join(dst_folder, \"results_fragment_abundances_{}.csv\".format(fragmented))\n",
    "shutil.copy2(src_csv, dst_csv)\n",
    "shutil.copy2(src_csv2, dst_csv2)\n",
    "shutil.copy2(src_csv3, dst_csv3)"
   ]
  },
  {
   "cell_type": "code",
   "execution_count": null,
   "metadata": {},
   "outputs": [],
   "source": []
  },
  {
   "cell_type": "code",
   "execution_count": null,
   "metadata": {},
   "outputs": [],
   "source": []
  }
 ],
 "metadata": {
  "kernelspec": {
   "display_name": "Python 2",
   "language": "python",
   "name": "python2"
  },
  "language_info": {
   "codemirror_mode": {
    "name": "ipython",
    "version": 2
   },
   "file_extension": ".py",
   "mimetype": "text/x-python",
   "name": "python",
   "nbconvert_exporter": "python",
   "pygments_lexer": "ipython2",
   "version": "2.7.6"
  }
 },
 "nbformat": 4,
 "nbformat_minor": 0
}
