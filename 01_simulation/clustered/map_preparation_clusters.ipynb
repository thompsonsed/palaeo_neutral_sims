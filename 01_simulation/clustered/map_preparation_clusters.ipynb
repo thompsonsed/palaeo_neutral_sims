{
 "cells": [
  {
   "cell_type": "markdown",
   "metadata": {},
   "source": [
    "# Generate the clusters across the landscape for holding the endemics\n",
    "\n",
    "Each island will be 100km across, but conform to the continental boundaries."
   ]
  },
  {
   "cell_type": "code",
   "execution_count": 3,
   "metadata": {},
   "outputs": [],
   "source": [
    "import numpy as np\n",
    "import pandas as pd\n",
    "import os\n",
    "import sys\n",
    "sys.path.append(\"../\")\n",
    "from data_preparation import create_cluster, find_distance_lat_long\n",
    "from pycoalescence import Map"
   ]
  },
  {
   "cell_type": "code",
   "execution_count": 4,
   "metadata": {},
   "outputs": [],
   "source": [
    "# Data set up\n",
    "# set this to the path to the data directory. Everything else should work from that\n",
    "# data_directory = \"/Volumes/Seagate 3TB/Paleo/Data\"\n",
    "data_directory = \"/run/media/sam/Media/Paleo/Data/paleo_maps/\"\n",
    "# The output directory for the clustered maps\n",
    "cluster_dir = os.path.join(data_directory, \"clustered\")\n",
    "if not os.path.exists(cluster_dir):\n",
    "    os.makedirs(cluster_dir)\n",
    "# the list of folders containing the shape files to convert to raster\n",
    "csv_directory = \"../../MainSimulationR/input\"\n",
    "# Define the radius in kilometers\n",
    "radius = 100"
   ]
  },
  {
   "cell_type": "code",
   "execution_count": 5,
   "metadata": {},
   "outputs": [],
   "source": [
    "info_per_pcoord = pd.read_csv(os.path.join(csv_directory, \"info_per_pcoord_occ.csv\"))\n",
    "info_per_pcoord['lat'] = info_per_pcoord.coord_lat\n",
    "info_per_pcoord['long'] = info_per_pcoord.coord_long"
   ]
  },
  {
   "cell_type": "code",
   "execution_count": 6,
   "metadata": {},
   "outputs": [],
   "source": [
    "intervals = [x for x in info_per_pcoord.interval.unique()]\n",
    "tetrapod_groups = [x.lower() for x in info_per_pcoord.tetrapod_group.unique()]"
   ]
  },
  {
   "cell_type": "code",
   "execution_count": 7,
   "metadata": {},
   "outputs": [],
   "source": [
    "# Calculate the origins for each of the time points\n",
    "map_origins = {}\n",
    "for interval in intervals:\n",
    "    map_path = os.path.join(data_directory, \"{}.tif\".format(interval))\n",
    "    paleo_mask = Map(map_path)\n",
    "    _, _, _,_, x_res, y_res, ulx_mask, uly_mask = paleo_mask.get_dimensions()\n",
    "    map_origins[interval] = [uly_mask, ulx_mask, y_res, x_res]"
   ]
  },
  {
   "cell_type": "code",
   "execution_count": 8,
   "metadata": {},
   "outputs": [],
   "source": [
    "for interval in intervals:\n",
    "    interval_map_input_path = os.path.join(data_directory, \"occ_sq\", \"{}.tif\".format(interval.lower()))\n",
    "    select_pcoords = info_per_pcoord[info_per_pcoord.interval == interval]\n",
    "    for tet_group in tetrapod_groups:\n",
    "        interval_map_output_path = os.path.join(cluster_dir, \"{}_{}.tif\".format(interval.lower(), tet_group))\n",
    "        if os.path.exists(interval_map_output_path):\n",
    "            os.remove(interval_map_output_path)\n",
    "        xs = []\n",
    "        ys = []\n",
    "        for i, row in select_pcoords.iterrows():\n",
    "            y, x = [int(e) for e in find_distance_lat_long(map_origins[interval][0], map_origins[interval][1], \n",
    "                                                           row.lat, row.long, res=map_origins[interval][3])]\n",
    "            xs.append(x)\n",
    "            ys.append(y)\n",
    "        coordinates = [x for x in zip(xs, ys)]\n",
    "        create_cluster(coordinates=coordinates, input_map=interval_map_input_path,\n",
    "                       output_map=interval_map_output_path, radius=radius)"
   ]
  },
  {
   "cell_type": "code",
   "execution_count": 15,
   "metadata": {},
   "outputs": [
    {
     "ename": "TypeError",
     "evalue": "only integer scalar arrays can be converted to a scalar index",
     "output_type": "error",
     "traceback": [
      "\u001b[0;31m---------------------------------------------------------------------------\u001b[0m",
      "\u001b[0;31mTypeError\u001b[0m                                 Traceback (most recent call last)",
      "\u001b[0;32m<ipython-input-15-267cf72f2b06>\u001b[0m in \u001b[0;36m<module>\u001b[0;34m()\u001b[0m\n\u001b[1;32m      1\u001b[0m \u001b[0ma\u001b[0m \u001b[0;34m=\u001b[0m \u001b[0mnp\u001b[0m\u001b[0;34m.\u001b[0m\u001b[0mrandom\u001b[0m\u001b[0;34m.\u001b[0m\u001b[0mrand\u001b[0m\u001b[0;34m(\u001b[0m\u001b[0;36m10\u001b[0m\u001b[0;34m,\u001b[0m \u001b[0;36m10\u001b[0m\u001b[0;34m)\u001b[0m\u001b[0;34m\u001b[0m\u001b[0m\n\u001b[1;32m      2\u001b[0m \u001b[0mb\u001b[0m \u001b[0;34m=\u001b[0m \u001b[0mnp\u001b[0m\u001b[0;34m.\u001b[0m\u001b[0mrandom\u001b[0m\u001b[0;34m.\u001b[0m\u001b[0mrand\u001b[0m\u001b[0;34m(\u001b[0m\u001b[0;36m10\u001b[0m\u001b[0;34m,\u001b[0m \u001b[0;36m10\u001b[0m\u001b[0;34m)\u001b[0m\u001b[0;34m\u001b[0m\u001b[0m\n\u001b[0;32m----> 3\u001b[0;31m \u001b[0mnp\u001b[0m\u001b[0;34m.\u001b[0m\u001b[0mmax\u001b[0m\u001b[0;34m(\u001b[0m\u001b[0ma\u001b[0m\u001b[0;34m,\u001b[0m \u001b[0mb\u001b[0m\u001b[0;34m)\u001b[0m\u001b[0;34m\u001b[0m\u001b[0m\n\u001b[0m",
      "\u001b[0;32m/home/sam/envs/DataPy36/lib64/python3.6/site-packages/numpy/core/fromnumeric.py\u001b[0m in \u001b[0;36mamax\u001b[0;34m(a, axis, out, keepdims, initial)\u001b[0m\n\u001b[1;32m   2332\u001b[0m     \"\"\"\n\u001b[1;32m   2333\u001b[0m     return _wrapreduction(a, np.maximum, 'max', axis, None, out, keepdims=keepdims,\n\u001b[0;32m-> 2334\u001b[0;31m                           initial=initial)\n\u001b[0m\u001b[1;32m   2335\u001b[0m \u001b[0;34m\u001b[0m\u001b[0m\n\u001b[1;32m   2336\u001b[0m \u001b[0;34m\u001b[0m\u001b[0m\n",
      "\u001b[0;32m/home/sam/envs/DataPy36/lib64/python3.6/site-packages/numpy/core/fromnumeric.py\u001b[0m in \u001b[0;36m_wrapreduction\u001b[0;34m(obj, ufunc, method, axis, dtype, out, **kwargs)\u001b[0m\n\u001b[1;32m     81\u001b[0m                 \u001b[0;32mreturn\u001b[0m \u001b[0mreduction\u001b[0m\u001b[0;34m(\u001b[0m\u001b[0maxis\u001b[0m\u001b[0;34m=\u001b[0m\u001b[0maxis\u001b[0m\u001b[0;34m,\u001b[0m \u001b[0mout\u001b[0m\u001b[0;34m=\u001b[0m\u001b[0mout\u001b[0m\u001b[0;34m,\u001b[0m \u001b[0;34m**\u001b[0m\u001b[0mpasskwargs\u001b[0m\u001b[0;34m)\u001b[0m\u001b[0;34m\u001b[0m\u001b[0m\n\u001b[1;32m     82\u001b[0m \u001b[0;34m\u001b[0m\u001b[0m\n\u001b[0;32m---> 83\u001b[0;31m     \u001b[0;32mreturn\u001b[0m \u001b[0mufunc\u001b[0m\u001b[0;34m.\u001b[0m\u001b[0mreduce\u001b[0m\u001b[0;34m(\u001b[0m\u001b[0mobj\u001b[0m\u001b[0;34m,\u001b[0m \u001b[0maxis\u001b[0m\u001b[0;34m,\u001b[0m \u001b[0mdtype\u001b[0m\u001b[0;34m,\u001b[0m \u001b[0mout\u001b[0m\u001b[0;34m,\u001b[0m \u001b[0;34m**\u001b[0m\u001b[0mpasskwargs\u001b[0m\u001b[0;34m)\u001b[0m\u001b[0;34m\u001b[0m\u001b[0m\n\u001b[0m\u001b[1;32m     84\u001b[0m \u001b[0;34m\u001b[0m\u001b[0m\n\u001b[1;32m     85\u001b[0m \u001b[0;34m\u001b[0m\u001b[0m\n",
      "\u001b[0;31mTypeError\u001b[0m: only integer scalar arrays can be converted to a scalar index"
     ]
    }
   ],
   "source": [
    "a = np.random.rand(10, 10)\n",
    "b = np.random.rand(10, 10)\n",
    "np.max(a, b)"
   ]
  },
  {
   "cell_type": "code",
   "execution_count": 14,
   "metadata": {},
   "outputs": [
    {
     "data": {
      "text/plain": [
       "array([[0.97465691, 0.45095453, 0.61975632, 0.37424827, 0.29131422,\n",
       "        0.73347737, 0.46998989, 0.57166674, 0.07838719, 0.12433656],\n",
       "       [0.60192862, 0.98743647, 0.2722123 , 0.85380427, 0.40711343,\n",
       "        0.6564667 , 0.54542969, 0.97161552, 0.4269897 , 0.5510039 ],\n",
       "       [0.45156019, 0.45708422, 0.53549193, 0.40402225, 0.44607077,\n",
       "        0.30912279, 0.38814365, 0.17718329, 0.57219655, 0.03759111],\n",
       "       [0.00648354, 0.82661052, 0.11999906, 0.94806962, 0.16444646,\n",
       "        0.60645498, 0.83797541, 0.90395874, 0.3378491 , 0.61305285],\n",
       "       [0.71572533, 0.00224703, 0.40694988, 0.79849569, 0.35636942,\n",
       "        0.50256834, 0.03675803, 0.68326731, 0.36919683, 0.72748628],\n",
       "       [0.75542473, 0.43766262, 0.05772334, 0.15206638, 0.18842162,\n",
       "        0.33667431, 0.06306786, 0.85986403, 0.72574189, 0.15299518],\n",
       "       [0.20072242, 0.61779931, 0.52268839, 0.89785047, 0.89215624,\n",
       "        0.06279325, 0.90261163, 0.64305676, 0.36103358, 0.85189005],\n",
       "       [0.42638958, 0.93308081, 0.00743221, 0.55215749, 0.15045662,\n",
       "        0.08753264, 0.55531373, 0.95354696, 0.49882283, 0.72225553],\n",
       "       [0.54706552, 0.50877636, 0.15147281, 0.44813336, 0.92249087,\n",
       "        0.46891239, 0.50105822, 0.25814368, 0.99844506, 0.90111449],\n",
       "       [0.23906868, 0.85717281, 0.45425422, 0.34021053, 0.30517843,\n",
       "        0.59979418, 0.26576929, 0.04016191, 0.84063683, 0.81214533]])"
      ]
     },
     "execution_count": 14,
     "metadata": {},
     "output_type": "execute_result"
    }
   ],
   "source": [
    "b"
   ]
  },
  {
   "cell_type": "code",
   "execution_count": null,
   "metadata": {},
   "outputs": [],
   "source": []
  }
 ],
 "metadata": {
  "kernelspec": {
   "display_name": "Python 3",
   "language": "python",
   "name": "python3"
  },
  "language_info": {
   "codemirror_mode": {
    "name": "ipython",
    "version": 3
   },
   "file_extension": ".py",
   "mimetype": "text/x-python",
   "name": "python",
   "nbconvert_exporter": "python",
   "pygments_lexer": "ipython3",
   "version": "3.6.5"
  }
 },
 "nbformat": 4,
 "nbformat_minor": 2
}
