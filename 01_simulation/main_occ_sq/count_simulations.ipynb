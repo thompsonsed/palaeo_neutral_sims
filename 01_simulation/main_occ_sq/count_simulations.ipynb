{
 "cells": [
  {
   "cell_type": "markdown",
   "metadata": {},
   "source": [
    "# Counts the number of simulations with each parameter set"
   ]
  },
  {
   "cell_type": "code",
   "execution_count": 1,
   "metadata": {},
   "outputs": [],
   "source": [
    "\n",
    "import os\n",
    "from collections import OrderedDict\n",
    "from random import sample\n",
    "from tqdm import tqdm_notebook\n",
    "import logging\n",
    "import pandas as pd\n",
    "from math import floor\n",
    "import shutil\n",
    "import pathlib\n",
    "import sqlite3\n"
   ]
  },
  {
   "cell_type": "code",
   "execution_count": 10,
   "metadata": {},
   "outputs": [
    {
     "name": "stdout",
     "output_type": "stream",
     "text": [
      "The autoreload extension is already loaded. To reload it, use:\n",
      "  %reload_ext autoreload\n"
     ]
    }
   ],
   "source": [
    "# For dev use only - auto-reloading of modules\n",
    "%load_ext autoreload\n",
    "%aimport pycoalescence.coalescence_tree\n",
    "import pathlib\n",
    "\n",
    "from pycoalescence.coalescence_tree import check_sql_table_exist\n",
    "from pycoalescence.helper import update_parameter_names\n",
    "from pycoalescence import CoalescenceTree\n",
    "from pycoalescence.sqlite_connection import check_sql_table_exist, SQLiteConnection\n",
    "from compress_times import compress_times, double_backup, double_restore_backup, get_unique_times\n",
    "\n",
    "%autoreload 1"
   ]
  },
  {
   "cell_type": "code",
   "execution_count": 3,
   "metadata": {},
   "outputs": [],
   "source": [
    "\n",
    "intervals = {'artinskian',\n",
    " 'asselian',\n",
    " 'bashkirian',\n",
    " 'gzhelian',\n",
    " 'kasimovian',\n",
    " 'kungurian',\n",
    " 'moscovian',\n",
    " 'sakmarian'}\n",
    "\n",
    "tetrapod_groups = {'amniote', 'amphibian'}"
   ]
  },
  {
   "cell_type": "code",
   "execution_count": 4,
   "metadata": {},
   "outputs": [],
   "source": [
    "def percent_cover_detection(fine_map_file):\n",
    "\t\"\"\"\n",
    "\tDetects the percentage cover from the fine map path\n",
    "\t:param fine_map_file: path to check for\n",
    "\t:return: the simulation percentage cover\n",
    "\t\"\"\"\n",
    "\tfor pc in [0.1, 0.2, 0.4, 0.8]:\n",
    "\t\tif \"_{}_\".format(pc) in fine_map_file:\n",
    "\t\t\treturn pc\n",
    "\traise ValueError(\"No percentage cover detected!\")"
   ]
  },
  {
   "cell_type": "code",
   "execution_count": 5,
   "metadata": {},
   "outputs": [],
   "source": [
    "def sim_type_detection(fine_map_file):\n",
    "\t\"\"\"\n",
    "\tDetects the simulation type from the fine map path (because I didn't save it anywhere sensible!\n",
    "\t:param fine_map_file: the path to check for\n",
    "\t:return the sim type\n",
    "\t\"\"\"\n",
    "\tfor interval in intervals:\n",
    "\t\tfor tet_group in tetrapod_groups:\n",
    "\t\t\tif interval in fine_map_file and tet_group in fine_map_file:\n",
    "\t\t\t\treturn (interval, tet_group)\n",
    "\traise ValueError(\"No type detected! Filename: {}.\".format(fine_map_file))"
   ]
  },
  {
   "cell_type": "code",
   "execution_count": 6,
   "metadata": {},
   "outputs": [],
   "source": [
    "def sim_scenario_detection(file):\n",
    "    \"\"\"\n",
    "    Detects the scenario from the file name\n",
    "    :param the file name to check\n",
    "    :return the scenario\n",
    "    \"\"\"\n",
    "    for scenario in [\"fragmented\", \"clustered\", \"pristine\"]:\n",
    "        if scenario in file:\n",
    "            return scenario\n",
    "    raise ValueError(\"Scenario not detected\")"
   ]
  },
  {
   "cell_type": "code",
   "execution_count": 7,
   "metadata": {},
   "outputs": [],
   "source": [
    "\n",
    "# Set the import directories and variables - paths relative to the jupyter notebook directory\n",
    "# fragmented=\"fragmented\"\n",
    "fragmented = \"all\"  # put back if want to analyse normal sims\n",
    "local_dir = \"/home/sam/Documents/PhD/PaleoSampling\"\n",
    "ext_dir = \"/run/media/sam/Media/Paleo\"\n",
    "# local_dir = \"/Users/samthompson/Documents/PhD/PaleoSampling/\"\n",
    "# ext_dir = \"/Volumes/Seagate 3TB/Paleo/\"\n",
    "results_dir = os.path.join(ext_dir, \"Results\", \"PaleoMainOcc2b\")\n",
    "dst_folder = os.path.join(local_dir, \"Results\", \"PaleoMainOcc2\")\n",
    "dst_folder2 = os.path.join(\n",
    "    local_dir, \"Code\", \"MainSimulationR\", \"results\", \"PaleoMainOcc2\"\n",
    ")\n",
    "data_dir = os.path.join(ext_dir, \"Data\")\n",
    "speciation_rates = [\n",
    "    0.000_000_01,\n",
    "    0.000_000_001,\n",
    "    0.000_000_002,\n",
    "    0.000_000_004,\n",
    "    0.000_000_006,\n",
    "    0.000_000_008,\n",
    "    0.000_000_05,\n",
    "    0.000_000_1,\n",
    "    0.000_001,\n",
    "]\n",
    "sim_int = 2\n",
    "directory_descriptions = [\n",
    "    (\"Main{}\".format(sim_int), \"pristine\"),\n",
    "    (\"Fragmented{}\".format(sim_int), \"fragmented\"),\n",
    "    (\"Clustered{}\".format(sim_int), \"clustered\"),\n",
    "]\n"
   ]
  },
  {
   "cell_type": "code",
   "execution_count": 12,
   "metadata": {},
   "outputs": [],
   "source": [
    "parameters = []\n",
    "for file in pathlib.Path(results_dir).iterdir():\n",
    "    if file.suffix == \".db\":\n",
    "        try:\n",
    "            ct = CoalescenceTree(file)\n",
    "        except:\n",
    "            continue\n",
    "        params = ct.get_simulation_parameters()\n",
    "        parameters.append({\"\"})"
   ]
  },
  {
   "cell_type": "code",
   "execution_count": null,
   "metadata": {},
   "outputs": [],
   "source": []
  }
 ],
 "metadata": {
  "kernelspec": {
   "display_name": "Python 3",
   "language": "python",
   "name": "python3"
  },
  "language_info": {
   "codemirror_mode": {
    "name": "ipython",
    "version": 3
   },
   "file_extension": ".py",
   "mimetype": "text/x-python",
   "name": "python",
   "nbconvert_exporter": "python",
   "pygments_lexer": "ipython3",
   "version": "3.7.3"
  }
 },
 "nbformat": 4,
 "nbformat_minor": 2
}
