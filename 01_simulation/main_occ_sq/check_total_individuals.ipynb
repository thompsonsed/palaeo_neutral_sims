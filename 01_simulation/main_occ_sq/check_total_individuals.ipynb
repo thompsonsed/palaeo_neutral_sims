{
 "cells": [
  {
   "cell_type": "code",
   "execution_count": 1,
   "metadata": {},
   "outputs": [],
   "source": [
    "import pathlib\n",
    "import pandas as pd\n",
    "from pycoalescence import CoalescenceTree"
   ]
  },
  {
   "cell_type": "code",
   "execution_count": 3,
   "metadata": {},
   "outputs": [],
   "source": [
    "# Set the import directories and variables - paths relative to the jupyter notebook directory\n",
    "# fragmented=\"fragmented\" \n",
    "fragmented=\"\" # put back if want to analyse normal sims\n",
    "local_dir = \"/home/sam/Documents/PhD/PaleoSampling\"\n",
    "ext_dir = \"/run/media/sam/Media/Paleo\"\n",
    "# local_dir = \"/Users/samthompson/Documents/PhD/PaleoSampling/\"\n",
    "# ext_dir = \"/Volumes/Seagate 3TB/Paleo/\"\n",
    "results_dir = pathlib.Path(ext_dir, \"Results\", \"PaleoMainOcc2b\")\n",
    "dst_folder = pathlib.Path(local_dir, \"Results\", \"PaleoMainOcc2\")\n",
    "dst_folder2 = pathlib.Path(local_dir, \"Code\", \"MainSimulationR\", \"results\", \"PaleoMainOcc2\")\n",
    "data_dir = pathlib.Path(ext_dir, \"Data\")\n",
    "speciation_rates = [0.0001, 0.00001, 0.000001, 0.0000001, 0.00000001]\n",
    "sim_int = 2\n",
    "directory_descriptions = [(\"Main{}\".format(sim_int), \"pristine\"), (\"Fragmented{}\".format(sim_int), \"fragmented\"), (\"Clustered{}\".format(sim_int), \"clustered\")]\n",
    "\n"
   ]
  },
  {
   "cell_type": "code",
   "execution_count": 5,
   "metadata": {},
   "outputs": [],
   "source": [
    "\n",
    "intervals = {'artinskian',\n",
    " 'asselian',\n",
    " 'bashkirian',\n",
    " 'gzhelian',\n",
    " 'kasimovian',\n",
    " 'kungurian',\n",
    " 'moscovian',\n",
    " 'sakmarian'}\n",
    "\n",
    "tetrapod_groups = {'amniote', 'amphibian'}"
   ]
  },
  {
   "cell_type": "code",
   "execution_count": 29,
   "metadata": {},
   "outputs": [],
   "source": [
    "fragment_df = pd.DataFrame(columns=[\"fragment\", \"xmin\", \"ymin\", \"xmax\", \"ymax\", \"total\"])\n",
    "for interval in intervals:\n",
    "    for tet_group in tetrapod_groups:\n",
    "        fragment_csv = pathlib.Path(data_dir, \"configs\",\n",
    "                                            \"fragments_occ_{}_{}.csv\".format(interval, tet_group))\n",
    "        tmp = pd.read_csv(fragment_csv, header=None, names=[\"fragment\", \"xmin\", \"ymin\", \"xmax\", \"ymax\", \"total\"]).assign(interval=interval, tetrapod_group=tet_group)\n",
    "        fragment_df = fragment_df.append(tmp)\n",
    "        \n",
    "        "
   ]
  },
  {
   "cell_type": "code",
   "execution_count": 31,
   "metadata": {},
   "outputs": [
    {
     "data": {
      "text/plain": [
       "interval    tetrapod_group\n",
       "artinskian  amniote            728\n",
       "            amphibian         1026\n",
       "asselian    amniote             85\n",
       "            amphibian          365\n",
       "bashkirian  amniote              1\n",
       "            amphibian          771\n",
       "gzhelian    amniote            113\n",
       "            amphibian          137\n",
       "kasimovian  amniote             63\n",
       "            amphibian           56\n",
       "kungurian   amniote           1032\n",
       "            amphibian         1490\n",
       "moscovian   amniote             32\n",
       "            amphibian          581\n",
       "sakmarian   amniote            221\n",
       "            amphibian          612\n",
       "Name: total, dtype: int64"
      ]
     },
     "execution_count": 31,
     "metadata": {},
     "output_type": "execute_result"
    }
   ],
   "source": [
    "fragment_df.groupby([\"interval\", \"tetrapod_group\"])[\"total\"].sum()"
   ]
  },
  {
   "cell_type": "code",
   "execution_count": null,
   "metadata": {},
   "outputs": [],
   "source": []
  }
 ],
 "metadata": {
  "kernelspec": {
   "display_name": "Python 3",
   "language": "python",
   "name": "python3"
  },
  "language_info": {
   "codemirror_mode": {
    "name": "ipython",
    "version": 3
   },
   "file_extension": ".py",
   "mimetype": "text/x-python",
   "name": "python",
   "nbconvert_exporter": "python",
   "pygments_lexer": "ipython3",
   "version": "3.7.3"
  }
 },
 "nbformat": 4,
 "nbformat_minor": 2
}
