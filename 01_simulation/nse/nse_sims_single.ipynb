{
 "cells": [
  {
   "cell_type": "markdown",
   "metadata": {
    "collapsed": true
   },
   "source": [
    "# Spatially implicit simulations of early tetrapod diversity\n",
    "\n",
    "Simulations are non-spatial (spatially implicit) so that a baseline of diversity can be achieved.\n",
    "\n",
    "Simulations are dictated by three parameters: the speciation rate, the local density and the metacommunity size. The same speciation rate is used to generate both the local and the metacommunity."
   ]
  },
  {
   "cell_type": "code",
   "execution_count": 1,
   "metadata": {},
   "outputs": [],
   "source": [
    "import os\n",
    "import pandas as pd\n",
    "\n",
    "import numpy as np\n",
    "from math import ceil\n",
    "import random"
   ]
  },
  {
   "cell_type": "code",
   "execution_count": 2,
   "metadata": {},
   "outputs": [],
   "source": [
    "# For dev use only - auto-reloading of modules\n",
    "%load_ext autoreload\n",
    "%aimport pycoalescence.coalescence_tree\n",
    "%aimport pycoalescence.simulation\n",
    "from pycoalescence.coalescence_tree import check_sql_table_exist\n",
    "from pycoalescence import Simulation, CoalescenceTree\n",
    "%autoreload 1"
   ]
  },
  {
   "cell_type": "code",
   "execution_count": 3,
   "metadata": {},
   "outputs": [],
   "source": [
    "intervals = {'artinskian',\n",
    " 'asselian',\n",
    " 'bashkirian',\n",
    " 'gzhelian',\n",
    " 'kasimovian',\n",
    " 'kungurian',\n",
    " 'moscovian',\n",
    " 'sakmarian'}\n",
    "\n",
    "tetrapod_groups = {'amniote', 'amphibian'}\n",
    "\n",
    "immigration_rates = 10.0**-np.linspace(0.1, 4, 20)\n",
    "speciation_rates = [10**-x for x in range(1, 9)]"
   ]
  },
  {
   "cell_type": "code",
   "execution_count": 5,
   "metadata": {},
   "outputs": [],
   "source": [
    "# The location to store simulations in\n",
    "# output_dir = \"/Volumes/Seagate 3TB/Paleo/Results/nse_01_single\"\n",
    "output_dir = \"/run/media/sam/Media/Paleo/Results/nse_01_single\"\n",
    "if not os.path.exists(output_dir):\n",
    "\tos.makedirs(output_dir)\n",
    "# The location of the csv containing location data for the fossil sites\n",
    "csv_directory = \"../MainSimulationR/input\"\n",
    "# The location to output the results csv to\n",
    "output_csv_directory = \"../../Results/nse1_single\"\n",
    "if not os.path.exists(output_csv_directory):\n",
    "\tos.makedirs(output_csv_directory)"
   ]
  },
  {
   "cell_type": "code",
   "execution_count": 7,
   "metadata": {},
   "outputs": [],
   "source": [
    "# Read the data for each paleo coord\n",
    "info_per_pcoord = pd.read_csv(os.path.join(csv_directory, \"info_per_pcoord_main.csv\"))\n",
    "info_per_pcoord['lat'] = np.NaN\n",
    "info_per_pcoord['long'] = np.NaN\n",
    "# split into lat and long for shapefile\n",
    "for index, row in info_per_pcoord.iterrows():\n",
    "\tlat, long = row[\"pcoords\"].split(\",\")\n",
    "\tinfo_per_pcoord.loc[index, 'lat'] = pd.to_numeric(lat) # plus some small modifier\\n\",\n",
    "\tinfo_per_pcoord.loc[index, 'long'] = pd.to_numeric(long)\n",
    "info_per_pcoord[\"interval\"] = [x.lower() for x in info_per_pcoord[\"interval\"]]\n",
    "total_per_interval = info_per_pcoord.groupby([\"tetrapod_group\"],\n",
    "\t\t\t\t\t\t\t\t\t\t   squeeze=True)[\"individuals_total\"].sum().reset_index()\n",
    "local_community_size = max(total_per_interval.individuals_total)"
   ]
  },
  {
   "cell_type": "code",
   "execution_count": 8,
   "metadata": {},
   "outputs": [
    {
     "data": {
      "text/html": [
       "<div>\n",
       "<style scoped>\n",
       "    .dataframe tbody tr th:only-of-type {\n",
       "        vertical-align: middle;\n",
       "    }\n",
       "\n",
       "    .dataframe tbody tr th {\n",
       "        vertical-align: top;\n",
       "    }\n",
       "\n",
       "    .dataframe thead th {\n",
       "        text-align: right;\n",
       "    }\n",
       "</style>\n",
       "<table border=\"1\" class=\"dataframe\">\n",
       "  <thead>\n",
       "    <tr style=\"text-align: right;\">\n",
       "      <th></th>\n",
       "      <th>tetrapod_group</th>\n",
       "      <th>individuals_total</th>\n",
       "    </tr>\n",
       "  </thead>\n",
       "  <tbody>\n",
       "    <tr>\n",
       "      <th>0</th>\n",
       "      <td>amniote</td>\n",
       "      <td>533</td>\n",
       "    </tr>\n",
       "    <tr>\n",
       "      <th>1</th>\n",
       "      <td>amphibian</td>\n",
       "      <td>904</td>\n",
       "    </tr>\n",
       "  </tbody>\n",
       "</table>\n",
       "</div>"
      ],
      "text/plain": [
       "<div>\n",
       "<style scoped>\n",
       "    .dataframe tbody tr th:only-of-type {\n",
       "        vertical-align: middle;\n",
       "    }\n",
       "\n",
       "    .dataframe tbody tr th {\n",
       "        vertical-align: top;\n",
       "    }\n",
       "\n",
       "    .dataframe thead th {\n",
       "        text-align: right;\n",
       "    }\n",
       "</style>\n",
       "<table border=\"1\" class=\"dataframe\">\n",
       "  <thead>\n",
       "    <tr style=\"text-align: right;\">\n",
       "      <th></th>\n",
       "      <th>tetrapod_group</th>\n",
       "      <th>individuals_total</th>\n",
       "    </tr>\n",
       "  </thead>\n",
       "  <tbody>\n",
       "    <tr>\n",
       "      <th>0</th>\n",
       "      <td>amniote</td>\n",
       "      <td>533</td>\n",
       "    </tr>\n",
       "    <tr>\n",
       "      <th>1</th>\n",
       "      <td>amphibian</td>\n",
       "      <td>904</td>\n",
       "    </tr>\n",
       "  </tbody>\n",
       "</table>\n",
       "</div>"
      ]
     },
     "execution_count": 8,
     "metadata": {},
     "output_type": "execute_result"
    }
   ],
   "source": [
    "total_per_interval"
   ]
  },
  {
   "cell_type": "code",
   "execution_count": 8,
   "metadata": {},
   "outputs": [
    {
     "name": "stdout",
     "output_type": "stream",
     "text": [
      "amphibian\n"
     ]
    },
    {
     "name": "stdout",
     "output_type": "stream",
     "text": [
      "amniote\n"
     ]
    }
   ],
   "source": [
    "job_type = 0\n",
    "from pycoalescence import Simulation, CoalescenceTree\n",
    "for tet_group in tetrapod_groups:\n",
    "\tprint(tet_group)\n",
    "\tjob_type += 1\n",
    "\tsimulated_number = total_per_interval[total_per_interval.tetrapod_group == tet_group].individuals_total\n",
    "\tfor seed in range(1, 11, 1):\n",
    "\t\tsim = Simulation(logging_level=40)\n",
    "\t\ttry:\n",
    "\t\t\tsim.set_simulation_parameters(seed=seed, job_type=job_type, output_directory=output_dir,\n",
    "\t\t\t\t\t\t\t\t\t\t  min_speciation_rate=0.0001, spatial=False, deme=int(simulated_number))\n",
    "\t\texcept IOError:\n",
    "\t\t\tcontinue\n",
    "\t\tsim.set_speciation_rates(immigration_rates.tolist())\n",
    "\t\ttry:\n",
    "\t\t\tsim.run()\n",
    "\t\texcept IOError:\n",
    "\t\t\tpass\n",
    "\t\ttree = CoalescenceTree(sim, logging_level=40)\n",
    "\t\t# tree.wipe_data()\n",
    "\t\ttree.set_speciation_parameters(speciation_rates=immigration_rates)\n",
    "\t\t# tree.add_metacommunity_parameters(10000, 0.1, metacommunity_option=\"simulated\")\n",
    "\t\tfor metacommunity_size in [10**x for x in range(4, 9)]:\n",
    "\t\t\tfor speciation_rate in speciation_rates:\n",
    "\t\t\t\ttree.add_metacommunity_parameters(metacommunity_size=metacommunity_size,\n",
    "\t\t\t\t\t\t\t\t\t\t\t\t  metacommunity_speciation_rate=speciation_rate,\n",
    "\t\t\t\t\t\t\t\t\t\t\t\t  metacommunity_option=\"analytical\")\n",
    "\t\ttree.apply()"
   ]
  },
  {
   "cell_type": "code",
   "execution_count": 9,
   "metadata": {
    "collapsed": true
   },
   "outputs": [
    {
     "name": "stdout",
     "output_type": "stream",
     "text": [
      "Starting amphibian : 1\n"
     ]
    },
    {
     "name": "stdout",
     "output_type": "stream",
     "text": [
      "Starting amphibian : 2\n"
     ]
    },
    {
     "name": "stdout",
     "output_type": "stream",
     "text": [
      "Starting amphibian : 3\n"
     ]
    },
    {
     "name": "stdout",
     "output_type": "stream",
     "text": [
      "Starting amphibian : 4\n"
     ]
    },
    {
     "name": "stdout",
     "output_type": "stream",
     "text": [
      "Starting amphibian : 5\n"
     ]
    },
    {
     "name": "stdout",
     "output_type": "stream",
     "text": [
      "Starting amphibian : 6\n"
     ]
    },
    {
     "name": "stdout",
     "output_type": "stream",
     "text": [
      "Starting amphibian : 7\n"
     ]
    },
    {
     "name": "stdout",
     "output_type": "stream",
     "text": [
      "Starting amphibian : 8\n"
     ]
    },
    {
     "name": "stdout",
     "output_type": "stream",
     "text": [
      "Starting amphibian : 9\n"
     ]
    },
    {
     "name": "stdout",
     "output_type": "stream",
     "text": [
      "Starting amphibian : 10\n"
     ]
    },
    {
     "name": "stdout",
     "output_type": "stream",
     "text": [
      "Starting amniote : 1\n"
     ]
    },
    {
     "name": "stdout",
     "output_type": "stream",
     "text": [
      "Starting amniote : 2\n"
     ]
    },
    {
     "name": "stdout",
     "output_type": "stream",
     "text": [
      "Starting amniote : 3\n"
     ]
    },
    {
     "name": "stdout",
     "output_type": "stream",
     "text": [
      "Starting amniote : 4\n"
     ]
    },
    {
     "name": "stdout",
     "output_type": "stream",
     "text": [
      "Starting amniote : 5\n"
     ]
    },
    {
     "name": "stdout",
     "output_type": "stream",
     "text": [
      "Starting amniote : 6\n"
     ]
    },
    {
     "name": "stdout",
     "output_type": "stream",
     "text": [
      "Starting amniote : 7\n"
     ]
    },
    {
     "name": "stdout",
     "output_type": "stream",
     "text": [
      "Starting amniote : 8\n"
     ]
    },
    {
     "name": "stdout",
     "output_type": "stream",
     "text": [
      "Starting amniote : 9\n"
     ]
    },
    {
     "name": "stdout",
     "output_type": "stream",
     "text": [
      "Starting amniote : 10\n"
     ]
    }
   ],
   "source": [
    "# Now randomly select to get the species richness for each fragment\n",
    "import sqlite3\n",
    "\n",
    "from pycoalescence.sqlite_connection import check_sql_table_exist\n",
    "\n",
    "job_type = 0\n",
    "output_richness = []\n",
    "output_alpha = []\n",
    "output_fragment_richness = []\n",
    "from pycoalescence import CoalescenceTree\n",
    "\n",
    "for tet_group in tetrapod_groups:\n",
    "\tjob_type += 1\n",
    "\ttotal_per_tet_group = int(total_per_interval[total_per_interval.tetrapod_group == tet_group].individuals_total)\n",
    "\tfor seed in range(1, 11, 1):\n",
    "\t\tprint(\"Starting {} : {}\".format(tet_group, seed))\n",
    "\t\tsim = os.path.join(output_dir, \"data_{}_{}.db\".format(job_type, seed))\n",
    "\t\t# print(\"data_{}_{}.db\".format(job_type, seed))\n",
    "\t\ttree = CoalescenceTree(sim, logging_level=40)\n",
    "\t\t# Drop existing tables\n",
    "\t\ttree._check_database()\n",
    "\t\ttree.cursor.execute(\"DROP TABLE IF EXISTS FRAGMENT_RICHNESS\")\n",
    "\t\ttree.cursor.execute(\"DROP TABLE IF EXISTS BIODIVERSITY_METRICS\")\n",
    "\t\ttree.cursor.execute(\"DROP TABLE IF EXISTS ALPHA_DIVERSITY\")\n",
    "\t\ttree.cursor.execute(\"DROP TABLE IF EXISTS BETA_DIVERSITY\")\n",
    "\t\ttree.database.commit()\n",
    "\t\ttmp_richness = []\n",
    "\t\t# Loop over the speciation parameters (including the potential metacommunities)\n",
    "\t\tfor reference in tree.get_community_references():\n",
    "\t\t\tparams = tree.get_community_parameters(reference)\n",
    "\t\t\tmetacommunity_reference = params[\"metacommunity_reference\"]\n",
    "\t\t\tif metacommunity_reference == 0:\n",
    "\t\t\t\tmeta_params = {\"metacommunity_size\" : 0, \"speciation_rate\" : 0.0}\n",
    "\t\t\telse:\n",
    "\t\t\t\tmeta_params = tree.get_metacommunity_parameters(metacommunity_reference)\n",
    "\t\t\tsad = tree.get_species_abundances(reference=reference)\n",
    "\t\t\tindividuals = []\n",
    "\t\t\tfor species_id, abundance in sad:\n",
    "\t\t\t\tindividuals.extend([species_id] * abundance)\n",
    "\t\t\t# Shuffle the list, repeated 10 times to randomly draw species richness values.\n",
    "\t\t\ttmp_tmp_richness = []\n",
    "\t\t\tall_gammas = []\n",
    "\t\t\t# print(\"Shuffling species abundances\")\n",
    "\t\t\tfor i in range(10):\n",
    "\t\t\t\trandom.shuffle(individuals)\n",
    "\t\t\t\tindex = 0\n",
    "\t\t\t\tfor interval in intervals:\n",
    "\t\t\t\t\tinterval_group_fragments = info_per_pcoord[(info_per_pcoord[\"interval\"] == interval) & (info_per_pcoord[\"tetrapod_group\"] == tet_group)]\n",
    "\t\t\t\t\ttmp_inds = 0\n",
    "\t\t\t\t\tfor _, row in interval_group_fragments.iterrows():\n",
    "\t\t\t\t\t\tfragment_name = row[\"fragment_name\"]\n",
    "\t\t\t\t\t\tno_inds = row[\"individuals_total\"]\n",
    "\t\t\t\t\t\ttmp_inds += no_inds\n",
    "\t\t\t\t\t\tfragment_individuals = []\n",
    "\t\t\t\t\t\tfragment_individuals.extend(individuals[index:index+no_inds])\n",
    "\t\t\t\t\t\tindex += no_inds\n",
    "\t\t\t\t\t\trich = len(set(fragment_individuals))\n",
    "\t\t\t\t\t\ttmp_tmp_richness.append({\"interval\" : interval, \"tetrapod_group\" : tet_group, \"iteration\": i,\n",
    "\t\t\t\t\t\t\t\t\t\t\t\t\"fragment\" : fragment_name, \"richness\" : rich})\n",
    "\t\t\t\t\tall_gammas.append({\"interval\" : interval, \"gamma\" : len(set(individuals[index-tmp_inds:index]))})\n",
    "\t\t\tfor interval in intervals:\n",
    "\t\t\t\tinterval_group_fragments = info_per_pcoord[(info_per_pcoord[\"interval\"] == interval) & (info_per_pcoord[\"tetrapod_group\"] == tet_group)]\n",
    "\t\t\t\tinterval_sel = [x for x in tmp_tmp_richness if x[\"interval\"] == interval]\n",
    "\t\t\t\tinterval_richness = []\n",
    "\t\t\t\tfor _, row in interval_group_fragments.iterrows():\n",
    "\t\t\t\t\tfragment_name = row[\"fragment_name\"]\n",
    "\t\t\t\t\tsel = [x[\"richness\"] for x in interval_sel if x[\"fragment\"] == fragment_name]\n",
    "\t\t\t\t\tmean_richness = sum(sel)/len(sel)\n",
    "\t\t\t\t\tinterval_richness.append({\"seed\" : seed, \"reference\" : reference, \"speciation_rate\" : params[\"speciation_rate\"],\n",
    "\t\t\t\t\t                          \"metacommunity_size\" : meta_params[\"metacommunity_size\"],\n",
    "\t\t\t\t\t                          \"metacommunity_speciation_rate\": meta_params[\"speciation_rate\"],\n",
    "\t\t\t\t\t                          \"interval\" : interval, \"tetrapod_group\" : tet_group,\n",
    "\t\t\t\t\t                          \"fragment\" : fragment_name, \"richness\" : mean_richness})\n",
    "\t\t\t\t\n",
    "\t\t\t\tr = [x[\"richness\"] for x in interval_richness]\n",
    "\t\t\t\tinterval_gammas = [x[\"gamma\"] for x in all_gammas if x[\"interval\"] == interval]\n",
    "\t\t\t\tgamma = sum(interval_gammas)/len(interval_gammas)\n",
    "\t\t\t\talpha = sum(r)/len(r)\n",
    "\t\t\t\tbeta = gamma/alpha\n",
    "\t\t\t\toutput_alpha.append({\"interval\" : interval, \"tetrapod_group\" : tet_group,\n",
    "\t\t\t\t\t\t\t\t \"seed\" : seed, \"reference\" : reference,\n",
    "\t\t\t\t\t\t\t\t \"speciation_rate\" : params[\"speciation_rate\"],\n",
    "\t\t\t\t\t\t\t\t \"metacommunity_size\" : meta_params[\"metacommunity_size\"],\n",
    "\t\t\t\t\t\t\t\t \"metacommunity_speciation_rate\": meta_params[\"speciation_rate\"],\n",
    "\t\t\t\t\t\t\t\t \"alpha\" : alpha, \"beta\" : beta, \"species_richness\" : gamma})\n",
    "\t\t\t\ttmp_richness.extend(interval_richness)\n",
    "\t\toutput_richness.extend(tmp_richness)"
   ]
  },
  {
   "cell_type": "code",
   "execution_count": 10,
   "metadata": {},
   "outputs": [],
   "source": [
    "output_alpha_df = pd.DataFrame(output_alpha)\n",
    "output_alpha_df.to_csv(os.path.join(output_csv_directory, \"nse_metrics1.csv\"))"
   ]
  },
  {
   "cell_type": "code",
   "execution_count": null,
   "metadata": {},
   "outputs": [],
   "source": [
    "output_fragment_richness_df = pd.DataFrame(output_richness)\n",
    "# This is to reduce the file size\n",
    "output_fragment_richness_df = output_fragment_richness_df[output_fragment_richness_df.metacommunity_size > 0]\n",
    "output_fragment_richness_df.to_csv(os.path.join(output_csv_directory, \"nse_fragment_richness1.csv\"))"
   ]
  },
  {
   "cell_type": "code",
   "execution_count": null,
   "metadata": {},
   "outputs": [],
   "source": [
    "print(\"Test\")"
   ]
  }
 ],
 "metadata": {
  "kernelspec": {
   "display_name": "Python 3",
   "language": "python",
   "name": "python3"
  },
  "language_info": {
   "codemirror_mode": {
    "name": "ipython",
    "version": 3
   },
   "file_extension": ".py",
   "mimetype": "text/x-python",
   "name": "python",
   "nbconvert_exporter": "python",
   "pygments_lexer": "ipython3",
   "version": "3.6.5"
  }
 },
 "nbformat": 4,
 "nbformat_minor": 1
}
